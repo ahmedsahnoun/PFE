{
  "cells": [
    {
      "cell_type": "code",
      "execution_count": 79,
      "metadata": {
        "colab": {
          "base_uri": "https://localhost:8080/"
        },
        "id": "4bQv6X1cvoXM",
        "outputId": "93268f5b-6db5-46b0-c269-80827075ca0b"
      },
      "outputs": [
        {
          "data": {
            "text/plain": [
              "[\"'Java', 'Java', 'Java', 'Java', 'Java', 'Java', 'JEE', 'ASP.NET MVC', 'SQL', 'Python', 'c', 'C++', 'Linux', 'JavaScript', 'jQuery', 'CSS3', 'HTML', 'c#', 'Spring Boot', 'Camunda BPM', 'MongoDB', 'Leadership', 'Axure RP', 'StarUML', 'Prelude ERP'\",\n",
              " \"'Spring boot', 'Python', 'Django', 'Java', 'Informatique', 'C++', 'C (langage de programmation)'\",\n",
              " \"'Python', 'Tensorflow', 'Matlab', 'C', 'Java', 'C++', 'Linux', 'Arduino', 'Raspberry Pi', 'LabView', 'Microsoft Office', 'Project Management', 'HTML', 'VHDL-ams', 'Telecommunications', 'Android Development', 'Programmation'\"]"
            ]
          },
          "execution_count": 79,
          "metadata": {},
          "output_type": "execute_result"
        }
      ],
      "source": [
        "#Importing Resumes\n",
        "\n",
        "Resumes = [\"'Java', 'Java', 'Java', 'Java', 'Java', 'Java', 'JEE', 'ASP.NET MVC', 'SQL', 'Python', 'c', 'C++', 'Linux', 'JavaScript', 'jQuery', 'CSS3', 'HTML', 'c#', 'Spring Boot', 'Camunda BPM', 'MongoDB', 'Leadership', 'Axure RP', 'StarUML', 'Prelude ERP'\"\n",
        "           ,\"'Spring boot', 'Python', 'Django', 'Java', 'Informatique', 'C++', 'C (langage de programmation)'\",\n",
        "           \"'Python', 'Tensorflow', 'Matlab', 'C', 'Java', 'C++', 'Linux', 'Arduino', 'Raspberry Pi', 'LabView', 'Microsoft Office', 'Project Management', 'HTML', 'VHDL-ams', 'Telecommunications', 'Android Development', 'Programmation'\"\n",
        "           ]\n",
        "Resumes"
      ]
    },
    {
      "cell_type": "code",
      "execution_count": 80,
      "metadata": {
        "id": "sHoOSBklvoXS"
      },
      "outputs": [],
      "source": [
        "from sklearn.feature_extraction.text import TfidfVectorizer\n",
        "\n",
        "# create the transform\n",
        "vectorizer = TfidfVectorizer()"
      ]
    },
    {
      "cell_type": "code",
      "execution_count": 81,
      "metadata": {},
      "outputs": [],
      "source": [
        "Resumes = []\n",
        "\n",
        "import csv\n",
        "with open('C:\\\\Users\\\\Ahmed\\\\Desktop\\\\PFE\\\\Linkedin scraping\\\\Data.csv', 'r', encoding=\"ISO-8859-1\") as f:\n",
        "\tereader = csv.DictReader(f)\n",
        "\tfor row in ereader:\n",
        "\t\tResumes.append(row['skills'])"
      ]
    },
    {
      "cell_type": "code",
      "execution_count": 82,
      "metadata": {
        "colab": {
          "base_uri": "https://localhost:8080/",
          "height": 35
        },
        "id": "IXMu5icpvoXU",
        "outputId": "b9d0d829-ed47-4e06-ad1b-d2759be426f9"
      },
      "outputs": [],
      "source": [
        "job_offer_description = \"'Java', 'JEE', 'SQL', 'Python', 'Arduino', 'Raspberry Pi', 'c', 'Spring Boot', 'MongoDB', 'Leadership'\""
      ]
    },
    {
      "cell_type": "code",
      "execution_count": 83,
      "metadata": {
        "colab": {
          "base_uri": "https://localhost:8080/"
        },
        "id": "0GVHyJ1MvoXS",
        "outputId": "32fa1ea3-a5bb-41ec-e2fb-5722802b5a19"
      },
      "outputs": [
        {
          "data": {
            "text/plain": [
              "TfidfVectorizer()"
            ]
          },
          "execution_count": 83,
          "metadata": {},
          "output_type": "execute_result"
        }
      ],
      "source": [
        "# tokenize and build vocab\n",
        "vectorizer.fit(Resumes)"
      ]
    },
    {
      "cell_type": "code",
      "execution_count": 84,
      "metadata": {
        "colab": {
          "base_uri": "https://localhost:8080/"
        },
        "id": "gAa84GrkvoXT",
        "outputId": "22d30676-70e5-4758-c463-4c73c9a50ef5"
      },
      "outputs": [],
      "source": [
        "# summarize\n",
        "# print(vectorizer.vocabulary_)"
      ]
    },
    {
      "cell_type": "code",
      "execution_count": 85,
      "metadata": {
        "colab": {
          "base_uri": "https://localhost:8080/"
        },
        "id": "0DPnHluovoXT",
        "outputId": "bc03aedf-0f7c-4cae-c6d4-df59c9fd3b3d"
      },
      "outputs": [
        {
          "name": "stdout",
          "output_type": "stream",
          "text": [
            "[5.82028157 5.82028157 5.41481646 ... 4.72166928 5.41481646 5.82028157]\n"
          ]
        }
      ],
      "source": [
        "#Focus on IDF VALUES\n",
        "print(vectorizer.idf_)"
      ]
    },
    {
      "cell_type": "code",
      "execution_count": 86,
      "metadata": {
        "id": "zkMyjCnsvoXU"
      },
      "outputs": [],
      "source": [
        "# encode document\n",
        "job_offer = vectorizer.transform([job_offer_description])"
      ]
    },
    {
      "cell_type": "code",
      "execution_count": 87,
      "metadata": {
        "id": "gg-R-v-m0JGk"
      },
      "outputs": [],
      "source": [
        "matrix = vectorizer.transform(Resumes)"
      ]
    },
    {
      "cell_type": "code",
      "execution_count": 88,
      "metadata": {},
      "outputs": [
        {
          "name": "stdout",
          "output_type": "stream",
          "text": [
            "  (0, 145)\t0.18412672581350806\n",
            "  (0, 603)\t0.0930680409563455\n",
            "  (0, 608)\t0.21935303367358688\n",
            "  (0, 651)\t0.12736183054927788\n",
            "  (0, 740)\t0.1787722180481284\n",
            "  (0, 945)\t0.09449970801429355\n",
            "  (0, 1099)\t0.14750797962738546\n",
            "  (0, 1102)\t0.11159950287173372\n",
            "  (1, 945)\t0.12401733955395113\n",
            "  (2, 82)\t0.18365638200122802\n",
            "  (2, 603)\t0.2041730606545956\n",
            "  (2, 945)\t0.10365692894134365\n",
            "  (2, 1102)\t0.12241372996956616\n",
            "  (3, 861)\t0.14296895067315485\n",
            "  (3, 960)\t0.14098598294731887\n",
            "  (4, 145)\t0.39770025562450545\n",
            "  (4, 603)\t0.2010201588893683\n",
            "  (4, 945)\t0.20411245498272207\n",
            "  (4, 1099)\t0.31860644317263903\n",
            "  (5, 603)\t0.06104793766674646\n",
            "  (5, 861)\t0.11726555229702665\n",
            "  (5, 945)\t0.061987038999653465\n",
            "  (5, 960)\t0.11563908861758807\n",
            "  (6, 603)\t0.060795261885321854\n",
            "  (6, 945)\t0.06173047630292593\n",
            "  :\t:\n",
            "  (229, 945)\t0.08686563728190712\n",
            "  (230, 82)\t0.07006268275725866\n",
            "  (230, 651)\t0.053295176140584356\n",
            "  (230, 861)\t0.07480810230841942\n",
            "  (230, 945)\t0.039543861470387145\n",
            "  (230, 960)\t0.07377052000953441\n",
            "  (231, 651)\t0.11400455625943756\n",
            "  (233, 945)\t0.039232959815460426\n",
            "  (233, 1102)\t0.0463321940733387\n",
            "  (234, 651)\t0.08801049532461201\n",
            "  (235, 651)\t0.1359758224872122\n",
            "  (236, 651)\t0.08618792970307072\n",
            "  (237, 603)\t0.0570509861241308\n",
            "  (237, 740)\t0.10958790178067535\n",
            "  (237, 945)\t0.0579286022920233\n",
            "  (238, 1102)\t0.06576072099582465\n",
            "  (240, 603)\t0.09020094227088805\n",
            "  (241, 145)\t0.10292083374435577\n",
            "  (241, 603)\t0.052021999130547794\n",
            "  (241, 608)\t0.12261119079967407\n",
            "  (241, 1099)\t0.4122607454219498\n",
            "  (241, 1102)\t0.06238048186794957\n",
            "  (242, 651)\t0.1849121810053089\n",
            "  (245, 651)\t0.09660832094274069\n",
            "  (246, 651)\t0.08043876911954696\n"
          ]
        },
        {
          "name": "stderr",
          "output_type": "stream",
          "text": [
            "C:\\ProgramData\\Anaconda3\\lib\\site-packages\\scipy\\sparse\\_index.py:116: SparseEfficiencyWarning: Changing the sparsity structure of a csr_matrix is expensive. lil_matrix is more efficient.\n",
            "  self._set_arrayXarray_sparse(i, j, x)\n"
          ]
        }
      ],
      "source": [
        "from scipy.sparse import csr_matrix\n",
        "sparseMatrix = csr_matrix((matrix.shape[0], matrix.shape[1]))\n",
        "\n",
        "for i in job_offer.indices:\n",
        "\tsparseMatrix[:,i] = matrix[:,i]\n",
        "\n",
        "matrix = sparseMatrix\n",
        "\n",
        "print(matrix)"
      ]
    },
    {
      "cell_type": "code",
      "execution_count": 89,
      "metadata": {
        "colab": {
          "base_uri": "https://localhost:8080/"
        },
        "id": "SB0gddICzvPt",
        "outputId": "3006bc78-ce98-4307-af88-dabb79b4b010"
      },
      "outputs": [
        {
          "name": "stdout",
          "output_type": "stream",
          "text": [
            "[[0.81639175 0.18083762 0.44050083 0.48046485 0.51793034 0.54338531\n",
            "  0.25381316 0.34326268 0.41487003 0.33170639 0.45064289 0.18083762\n",
            "  0.5054262  0.35188396 0.66598321 0.63081347 0.         0.64172795\n",
            "  0.32040292 0.2798397  0.67625944 0.         0.4776308  0.77916256\n",
            "  0.18083762 0.26256389 0.18083762 0.25381316 0.24372361 0.\n",
            "  0.53628142 0.47116131 0.38296639 0.44131789 0.27807713 0.50503085\n",
            "  0.17809794 0.         0.58947742 0.         0.51336996 0.\n",
            "  0.27807713 0.         0.63081347 0.33376424 0.53628142 0.17809794\n",
            "  0.34931213 0.33170639 0.26256389 0.2656533  0.51793034 0.33376424\n",
            "  0.27807713 0.         0.         0.2798397  0.18083762 0.27807713\n",
            "  0.33170639 0.30348549 0.2798397  0.         0.61374328 0.4555409\n",
            "  0.32040292 0.25381316 0.24372361 0.33170639 0.41829164 0.33170639\n",
            "  0.25381316 0.18083762 0.47651273 0.45201938 0.50118663 0.45731028\n",
            "  0.         0.21356033 0.36791341 0.51451749 0.27807713 0.65291108\n",
            "  0.43555577 0.45201938 0.66598321 0.35639275 0.         0.38695929\n",
            "  0.64755703 0.47651273 0.         0.18083762 0.18083762 0.33238717\n",
            "  0.27807713 0.67625944 0.         0.24372361 0.         0.\n",
            "  0.         0.5056212  0.         0.         0.24372361 0.\n",
            "  0.17809794 0.27692928 0.         0.24372361 0.17809794 0.17809794\n",
            "  0.24372361 0.24372361 0.         0.27807713 0.18083762 0.30348549\n",
            "  0.         0.31292723 0.         0.37572201 0.         0.30348549\n",
            "  0.         0.         0.35188396 0.35188396 0.38810996 0.36791341\n",
            "  0.24372361 0.44926702 0.27807713 0.24372361 0.27807713 0.18083762\n",
            "  0.24372361 0.31285708 0.63081347 0.65238635 0.39624056 0.17809794\n",
            "  0.         0.30186102 0.33170639 0.24091277 0.24372361 0.\n",
            "  0.         0.         0.         0.36791341 0.32040292 0.27807713\n",
            "  0.         0.24372361 0.35944693 0.77916256 0.31325204 0.35924931\n",
            "  0.51336996 0.24372361 0.4555409  0.48634654 0.31325204 0.24372361\n",
            "  0.         0.47090117 0.18083762 0.33170639 0.         0.\n",
            "  0.         0.36791341 0.32040292 0.27807713 0.         0.31325204\n",
            "  0.24372361 0.35924931 0.35944693 0.         0.24372361 0.\n",
            "  0.51336996 0.4555409  0.48634654 0.31325204 0.24372361 0.\n",
            "  0.18083762 0.         0.33170639 0.24372361 0.38296639 0.47090117\n",
            "  0.         0.18083762 0.49917082 0.33170639 0.         0.\n",
            "  0.24372361 0.17809794 0.24372361 0.24372361 0.18083762 0.24372361\n",
            "  0.24372361 0.42017067 0.         0.49062435 0.40256581 0.\n",
            "  0.33339502 0.24372361 0.17809794 0.24372361 0.         0.24372361\n",
            "  0.         0.18083762 0.         0.17809794 0.30348549 0.\n",
            "  0.17809794 0.36791341 0.65238635 0.24372361 0.         0.2798397\n",
            "  0.24372361 0.24372361 0.24372361 0.42597696 0.21356033 0.\n",
            "  0.17809794 0.50415042 0.24372361 0.         0.         0.24372361\n",
            "  0.24372361]]\n"
          ]
        }
      ],
      "source": [
        "from sklearn.metrics.pairwise import cosine_similarity\n",
        "\n",
        "matches = cosine_similarity(job_offer,matrix)\n",
        "print(matches)"
      ]
    },
    {
      "cell_type": "code",
      "execution_count": 90,
      "metadata": {},
      "outputs": [],
      "source": [
        "# from sklearn.metrics.pairwise import euclidean_distances\n",
        "\n",
        "# matches = euclidean_distances(job_offer,matrix)\n",
        "# print(matches)"
      ]
    },
    {
      "cell_type": "code",
      "execution_count": 91,
      "metadata": {},
      "outputs": [],
      "source": [
        "# from sklearn.neighbors import NearestNeighbors\n",
        "# nbrs = NearestNeighbors(n_neighbors=5).fit(matrix)\n",
        "# distances, indices = nbrs.kneighbors(job_offer)\n",
        "# print(distances)\n",
        "# print(indices)"
      ]
    },
    {
      "cell_type": "code",
      "execution_count": 92,
      "metadata": {},
      "outputs": [
        {
          "name": "stdout",
          "output_type": "stream",
          "text": [
            "[  0 159  23  97  20]\n"
          ]
        }
      ],
      "source": [
        "#number of candidates\n",
        "n = 5\n",
        "\n",
        "#best candidates indices\n",
        "indices = (-matches[0]).argsort()[:n]\n",
        "\n",
        "print(indices)"
      ]
    },
    {
      "cell_type": "code",
      "execution_count": 93,
      "metadata": {},
      "outputs": [
        {
          "name": "stdout",
          "output_type": "stream",
          "text": [
            "['Java', 'JEE', 'ASP.NET MVC', 'SQL', 'Python', 'c', 'C++', 'Linux', 'JavaScript', 'jQuery', 'CSS3', 'HTML', 'c#', 'Spring Boot', 'Camunda BPM', 'MongoDB', 'Leadership', 'Axure RP', 'StarUML', 'Prelude ERP'] -> 81.64 %\n",
            "['Python (Programming Language)', 'Web Development', 'Computer Vision', 'Deep Learning', 'Programming', 'Scrum', 'Artificial Intelligence (AI)', 'Java', 'C (Programming Language)', 'JavaScript', 'Linux', 'PHP', 'MySQL', 'Ubuntu', 'Unified Modeling Language (UML)', 'XML', 'Eclipse', 'TensorFlow', 'FastAPI', 'MongoDB', 'PhpMyAdmin', 'Angular', 'Spring Boot', 'SQL', 'HTML', 'CSS', 'JEE', 'Android Studio', 'OpenCV'] -> 77.92 %\n",
            "['Python (Programming Language)', 'Web Development', 'Computer Vision', 'Deep Learning', 'Programming', 'Scrum', 'Artificial Intelligence (AI)', 'Java', 'C (Programming Language)', 'JavaScript', 'Linux', 'PHP', 'MySQL', 'Ubuntu', 'Unified Modeling Language (UML)', 'XML', 'Eclipse', 'TensorFlow', 'FastAPI', 'MongoDB', 'PhpMyAdmin', 'Angular', 'Spring Boot', 'SQL', 'HTML', 'CSS', 'JEE', 'Android Studio', 'OpenCV'] -> 77.92 %\n",
            "['C', 'Java', 'C++', 'Sponsorship', 'Gestion de projet', 'Microsoft Office', 'VHDL', 'Assembly Language', 'Python', 'Leadership', 'Teamwork', 'English', 'French', 'German', 'Packet Tracer', 'stm32', 'Matlab', 'Altium Designer', 'Arduino', 'Raspberry Pi', 'Automotive', 'Scrum', 'Agile Methodologies', 'V-Model', 'Controller Area Network (CAN)', 'Local Interconnect Network (LIN)', 'Embedded C', 'Diagnostics ', 'UDS', 'Testing', 'AUTOSAR', 'Microcontrollers', 'Unit Testing', 'ISO 26262', 'MISRA', 'Automotive Engineering', 'Automotive Safety', 'DTC', 'Automotive SPICE (ASPICE)', 'CANoe', 'Embedded Software Programming', 'Requirements Analysis', 'Aurix', 'Tresos', 'CDD', 'SWAT'] -> 67.63 %\n",
            "['C++', 'Embedded Systems', 'C', 'Robotics', 'Scrum', 'Printed Circuit Board (PCB) Design', 'Artificial Intelligence (AI)', 'Agile Methodologies', 'Kanban', 'Java', 'Linux', 'Arduino', 'AutoCAD', 'Assembly Language', 'XML', 'Embedded Linux', 'Microsoft Office', 'Windows', 'MATLAB', 'Ubuntu', 'EasyEDA', 'Python (Programming Language)', 'Flask', 'Tortoise SVN', 'Jira', 'Trello', 'Embedded Software', 'Teamwork', 'Leadership', 'Communication', 'HTTP/MQTT', 'Raspberry Pi', 'ISIS', 'Qt', 'Qt Creator', 'Hypertext Transfer Protocol (HTTP)', 'Embedded Software Programming', 'Android Studio'] -> 67.63 %\n",
            "------\n",
            " 'Java', 'JEE', 'SQL', 'Python', 'Arduino', 'Raspberry Pi', 'c', 'Spring Boot', 'MongoDB', 'Leadership'\n"
          ]
        }
      ],
      "source": [
        "for i in indices:\n",
        "\tprint(Resumes[i],'->',\"{:.2f}\".format(matches[0][i]*100),'%')\n",
        "\n",
        "print('------\\n',job_offer_description)"
      ]
    }
  ],
  "metadata": {
    "colab": {
      "collapsed_sections": [],
      "name": "Feature extraction from text.ipynb",
      "provenance": []
    },
    "kernelspec": {
      "display_name": "Python 3",
      "language": "python",
      "name": "python3"
    },
    "language_info": {
      "codemirror_mode": {
        "name": "ipython",
        "version": 3
      },
      "file_extension": ".py",
      "mimetype": "text/x-python",
      "name": "python",
      "nbconvert_exporter": "python",
      "pygments_lexer": "ipython3",
      "version": "3.9.7"
    }
  },
  "nbformat": 4,
  "nbformat_minor": 0
}

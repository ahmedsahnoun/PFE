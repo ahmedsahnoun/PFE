{
  "cells": [
    {
      "cell_type": "code",
      "execution_count": 4,
      "metadata": {
        "id": "sHoOSBklvoXS"
      },
      "outputs": [],
      "source": [
        "from sklearn.feature_extraction.text import TfidfVectorizer\n",
        "\n",
        "# create the transform\n",
        "vectorizer = TfidfVectorizer()"
      ]
    },
    {
      "cell_type": "code",
      "execution_count": 5,
      "metadata": {},
      "outputs": [],
      "source": [
        "Resumes = []\n",
        "\n",
        "import csv\n",
        "with open('C:\\\\Users\\\\Ahmed\\\\Desktop\\\\PFE\\\\Linkedin scraping\\\\Data.csv', 'r', encoding=\"ISO-8859-1\") as f:\n",
        "\tereader = csv.DictReader(f)\n",
        "\tfor row in ereader:\n",
        "\t\tResumes.append(row['skills'])"
      ]
    },
    {
      "cell_type": "code",
      "execution_count": 6,
      "metadata": {
        "colab": {
          "base_uri": "https://localhost:8080/",
          "height": 35
        },
        "id": "IXMu5icpvoXU",
        "outputId": "b9d0d829-ed47-4e06-ad1b-d2759be426f9"
      },
      "outputs": [],
      "source": [
        "job_offer_description = \"'Java', 'JEE', 'SQL', 'Python', 'Arduino', 'Raspberry Pi', 'c', 'Spring Boot', 'MongoDB', 'Leadership'\""
      ]
    },
    {
      "cell_type": "code",
      "execution_count": 7,
      "metadata": {
        "colab": {
          "base_uri": "https://localhost:8080/"
        },
        "id": "0GVHyJ1MvoXS",
        "outputId": "32fa1ea3-a5bb-41ec-e2fb-5722802b5a19"
      },
      "outputs": [
        {
          "data": {
            "text/plain": [
              "TfidfVectorizer()"
            ]
          },
          "execution_count": 7,
          "metadata": {},
          "output_type": "execute_result"
        }
      ],
      "source": [
        "# tokenize and build vocab\n",
        "vectorizer.fit(Resumes)"
      ]
    },
    {
      "cell_type": "code",
      "execution_count": 8,
      "metadata": {
        "colab": {
          "base_uri": "https://localhost:8080/"
        },
        "id": "gAa84GrkvoXT",
        "outputId": "22d30676-70e5-4758-c463-4c73c9a50ef5"
      },
      "outputs": [
        {
          "name": "stdout",
          "output_type": "stream",
          "text": [
            "{'java': 603, 'jee': 608, 'asp': 90, 'net': 765, 'mvc': 750, 'sql': 1102, 'python': 945, 'linux': 661, 'javascript': 605, 'jquery': 616, 'css3': 266, 'html': 530, 'spring': 1099, 'boot': 145, 'camunda': 164, 'bpm': 150, 'mongodb': 740, 'leadership': 651, 'axure': 123, 'rp': 1005, 'staruml': 1107, 'prelude': 888, 'erp': 407, 'compétences': 221, 'analytiques': 57, 'langage': 642, 'de': 291, 'programmation': 917, 'feuilles': 435, 'style': 1126, 'en': 391, 'cascade': 174, 'css': 265, 'communication': 209, 'anglais': 62, 'mathématiques': 703, 'kotlin': 635, 'android': 59, 'studio': 1125, 'arduino': 82, 'enterprise': 401, 'edition': 366, 'angularjs': 65, 'mysql': 751, 'microsoft': 721, 'office': 797, 'uml': 1223, 'firebase': 447, 'oracle': 815, 'database': 285, 'matlab': 704, 'ubuntu': 1219, 'nosql': 779, 'packet': 835, 'tracer': 1197, 'ensp': 400, 'programming': 920, 'language': 644, 'embedded': 385, 'microcontrôleurs': 718, 'administration': 27, 'système': 1142, 'git': 485, 'systèmes': 1143, 'exploitation': 421, 'temps': 1170, 'réel': 1012, 'rtos': 1007, 'embarqués': 383, 'microelectronics': 719, 'raspberry': 960, 'pi': 861, 'cadence': 163, 'virtuoso': 1258, 'spectre': 1092, 'eagle': 362, 'pcb': 848, 'lora': 673, 'lorawan': 674, 'django': 328, 'informatique': 557, 'orientée': 828, 'objet': 791, 'poo': 877, 'go': 490, 'méthodes': 757, 'agiles': 34, 'test': 1173, 'unitaire': 1230, 'tests': 1178, 'fonctionnels': 458, 'json': 619, 'blockchain': 141, 'postgresql': 881, 'docker': 332, 'nodejs': 777, 'vhdl': 1253, 'hyperledger': 537, 'angular': 63, 'javafx': 604, 'golang': 491, 'gitlab': 487, 'stm32': 1112, 'openmp': 803, 'internet': 578, 'des': 300, 'objets': 792, 'parallèle': 840, 'apache': 68, 'kafka': 626, 'api': 69, 'rest': 993, 'amazon': 44, 'web': 1272, 'services': 1051, 'data': 284, 'analysis': 52, 'mining': 723, 'big': 137, 'natural': 761, 'processing': 905, 'nlp': 775, 'deep': 296, 'learning': 655, 'science': 1033, 'machine': 679, 'engineering': 397, 'critical': 257, 'thinking': 1181, 'creativity': 255, 'skills': 1068, 'english': 398, 'french': 470, 'arabic': 79, 'tensorflow': 1172, 'neural': 770, 'networks': 769, 'artificial': 88, 'intelligence': 567, 'ai': 36, 'darknet': 281, 'computer': 218, 'vision': 1260, 'framework': 466, 'ingénierie': 560, 'security': 1042, 'batch': 133, 'développement': 361, 'maven': 705, 'svn': 1134, 'typescript': 1211, 'elasticsearch': 374, 'hibernate': 520, 'scrum': 1038, 'optimisation': 808, 'object': 788, 'oriented': 827, 'agile': 33, 'methodologies': 715, 'keras': 630, 'subversion': 1127, 'products': 911, 'html5': 531, 'jenkins': 609, 'gestion': 483, 'projet': 923, 'compte': 217, 'la': 638, 'relation': 979, 'client': 197, 'crm': 259, 'programmes': 919, 'ingénieurs': 561, 'du': 349, 'équipe': 1310, 'évènement': 1313, 'opérations': 814, 'changement': 187, 'stocks': 1113, 'proteus': 928, 'photoshop': 858, 'sponsoring': 1097, 'logistique': 670, 'software': 1078, 'developement': 309, 'iot': 591, 'presse': 889, 'guitare': 507, 'sgbd': 1054, 'pl': 864, 'twitter': 1210, 'bootstrap': 146, 'thymeleaf': 1182, 'labview': 640, 'altium': 43, 'designer': 306, 'pour': 883, 'management': 684, 'excel': 417, 'tortoise': 1195, 'arabe': 78, 'français': 468, 'angular6': 64, 'project': 921, 'ams': 48, 'telecommunications': 1169, 'development': 311, 'orcad': 816, 'capture': 172, 'cis': 194, 'signal': 1060, 'simulink': 1063, 'pspice': 936, 'systems': 1141, 'isis': 596, 'psim': 935, 'field': 439, 'programmable': 915, 'gate': 474, 'arrays': 87, 'fpga': 465, 'beaglebone': 134, 'xilinx': 1294, 'ise': 594, 'conception': 224, 'produits': 913, 'mécaniques': 753, 'robotique': 1003, 'solidworks': 1083, 'autocad': 105, 'word': 1282, 'powerpoint': 885, 'génie': 509, 'électrique': 1303, 'audit': 102, 'sécurité': 1145, 'logiciel': 666, 'embarqué': 382, 'jira': 613, 'emv': 390, 'p2pe': 834, 'monetique': 739, 'iso': 597, '20022': 3, 'validation': 1244, 'visual': 1261, '8583': 12, 'xml': 1296, 'sur': 1133, 'robotics': 1002, 'printed': 895, 'circuit': 192, 'board': 143, 'design': 305, 'kanban': 628, 'assembly': 95, 'windows': 1279, 'easyeda': 364, 'flask': 450, 'trello': 1205, 'teamwork': 1161, 'http': 532, 'mqtt': 745, 'qt': 949, 'creator': 256, 'hypertext': 538, 'transfer': 1200, 'protocol': 929, 'sdk': 1040, 'testing': 1174, 'graphic': 499, 'logo': 671, 'mobile': 727, 'application': 72, 'interface': 573, 'google': 492, 'material': 702, 'sqlite': 1103, 'junior': 622, 'developer': 310, 'recherche': 966, 'espagnol': 409, 'présentations': 933, 'bureautique': 159, 'contenu': 236, 'cms': 201, 'php': 859, 'phpmyadmin': 860, 'bases': 130, 'données': 337, 'outils': 829, 'swing': 1136, 'openerp': 802, 'modélisation': 737, 'unifié': 1228, 'modèle': 736, 'algorithmes': 38, 'base': 129, 'oop': 799, 'unified': 1227, 'modeling': 733, 'eclipse': 365, 'fastapi': 432, 'opencv': 801, 'monétique': 742, 'react': 963, 'js': 617, 'node': 776, 'sequelize': 1048, 'pytorch': 947, 'utilisateur': 1238, 'graphique': 500, 'odoo': 795, 'wxwidgets': 1288, 'artificielle': 89, 'redis': 975, 'unix': 1234, 'arm': 86, 'perl': 856, 'tcl': 1156, 'processors': 906, 'amba': 45, 'ahb': 35, 'team': 1160, 'payment': 846, 'languages': 645, 'hardware': 516, 'description': 303, 'ocp': 794, 'ddr': 290, 'jhipster': 612, 'sharepoint': 1055, 'j2ee': 600, 'struts2': 1123, 'sélénium': 1147, 'testlink': 1175, 'ingedev': 559, 'jsp': 620, 'yocto': 1300, 'buildroot': 158, 'openwrt': 804, 'électronique': 1305, 'protocole': 930, 'ip': 592, 'talend': 1152, 'open': 800, 'spark': 1089, 'laravel': 646, 'cloud': 198, 'computing': 219, 'décisionnelle': 354, 'scala': 1031, 'vue': 1268, 'confluence': 229, 'power': 884, 'bi': 136, 'powershell': 886, 'groovy': 503, 'script': 1036, 'shell': 1057, 'adobe': 29, 'illustrator': 545, 'active': 22, 'directory': 323, 'xd': 1293, 'ibm': 543, 'lotus': 675, 'notes': 781, 'it': 598, 'support': 1132, 'technician': 1163, 'ipbx': 593, 'sap': 1027, 'user': 1236, 'maintenance': 681, 'express': 423, 'front': 471, 'end': 393, 'back': 128, 'symfony': 1137, 'advanced': 30, 'driver': 342, 'assistance': 97, 'adas': 26, 'set': 1053, 'top': 1194, 'box': 149, 'perforce': 853, 'cross': 260, 'compilers': 213, 'gdb': 477, 'iar': 540, 'workbench': 1284, 'paradigm': 839, 'automatic': 107, 'control': 243, 'real': 965, 'time': 1184, 'operating': 805, 'device': 314, 'drivers': 343, 'cortex': 251, 'freertos': 469, 'of': 796, 'things': 1180, 'devices': 315, 'valgrind': 1243, 'reactive': 964, 'architecture': 81, 'driven': 341, 'gnu': 489, 'debugger': 293, 'ros': 1004, 'tv': 1209, 'télévision': 1215, 'dash': 283, 'hls': 523, 'gazebo': 476, 'slam': 1069, 'ardupilot': 83, 'mavlink': 706, 'latex': 647, 'hdfs': 517, 'sed': 1043, 'awk': 122, 'x86': 1289, 'mips': 724, 'rpc': 1006, 'rmi': 1000, 'assembleur': 94, 'spi': 1094, 'uart': 1218, 'can': 165, 'unity': 1232, 'sketchup': 1067, 'méthode': 756, 'system': 1139, 'cxf': 273, 'ui': 1222, 'soap': 1072, 'servlets': 1052, 'struts': 1122, 'jpa': 615, 'activemq': 23, 'lucene': 677, 'requirement': 987, 'specifications': 1091, 'functional': 473, 'technical': 1162, 'requirements': 988, 'documentation': 334, 'patterns': 845, 'network': 767, 'tcp': 1158, 'usb': 1235, 'umts': 1224, 'dependency': 299, 'injection': 562, 'networking': 768, 'gsm': 505, 'gprs': 494, 'lte': 676, 'ejb': 372, 'jersey': 610, 'sun': 1130, 'certified': 183, 'programmer': 918, 'ia': 539, 'analyse': 50, 'ajax': 37, 'server': 1049, 'travail': 1203, 'full': 472, 'stack': 1104, 'frameworks': 467, 'mean': 709, 'architect': 80, 'scène': 1039, 'builder': 156, 'analyses': 51, 'unity3d': 1233, 'core': 249, 'virtualisation': 1256, 'common': 208, 'lisp': 662, 'prolog': 925, 'business': 161, 'process': 903, 'model': 732, 'and': 58, 'notation': 780, 'dynamics': 352, 'applications': 73, 'hadoop': 513, 'redmine': 976, 'xamarin': 1290, 'schéma': 1032, 'xampp': 1291, 'intellij': 568, 'idea': 544, 'sts': 1124, 'neurolinguistique': 771, 'pnl': 872, 'elastic': 373, 'elk': 380, 'toad': 1187, 'maple': 695, 'six': 1066, 'sigma': 1059, '9001': 15, 'processus': 907, 'commerciaux': 207, 'consulting': 234, 'amélioration': 49, 'continue': 238, 'qualité': 953, 'planification': 868, 'projets': 924, 'systeme': 1140, 'qualite': 951, 'analyste': 53, 'commercial': 205, 'statitical': 1109, 'maitrise': 682, 'cycles': 276, 'vie': 1255, 'native': 760, 'objective': 789, 'ios': 590, 'do': 330, '178': 2, 'continuous': 239, 'integration': 566, 'scripting': 1037, 'vagrant': 1242, 'marketing': 697, 'digital': 320, 'ressources': 992, 'humaines': 535, 'rh': 996, 'évaluation': 1312, 'performance': 854, 'stratégique': 1118, 'formation': 462, 'entretien': 404, 'embauche': 384, 'compétition': 222, 'exigences': 420, 'quotidienne': 956, 'une': 1226, 'entreprise': 403, 'préparation': 932, 'aux': 116, 'entretiens': 405, 'départ': 358, 'auditeur': 103, 'certifié': 184, 'financière': 444, 'dangers': 278, 'et': 412, 'points': 874, 'critiques': 258, 'leur': 657, 'maîtrise': 707, 'haccp': 512, 'loi': 672, 'finance': 441, '2021': 5, 'comptabilité': 215, 'analytique': 56, '2015': 4, '360': 8, 'modes': 735, 'défaillance': 355, 'leurs': 658, 'effets': 369, 'amde': 46, 'entrepreneuriat': 402, 'soa': 1071, 'soapui': 1073, 'parler': 842, 'public': 940, 'mplap': 744, 'mikroc': 722, 'pro': 900, 'for': 460, 'pic': 862, 'mangodb': 688, 'couch': 253, 'db': 288, 'wcomp': 1271, 'iarworkbench': 541, 'bluemix': 142, 'conversation': 248, 'manager': 685, 'ionic': 589, 'jasper': 601, 'reports': 985, 'microchip': 716, 'dsp': 346, 'apprentissage': 76, 'automatique': 109, 'github': 486, 'automatisation': 110, 'risques': 999, 'spice': 1095, 'automobile': 111, 'configuration': 227, 'vérification': 1270, 'knowledge': 633, 'sales': 1024, 'to': 1186, 'btob': 152, 'devops': 316, 'nexus': 774, 'sonar': 1085, 'connectivity': 232, 'jdbc': 607, 'intégration': 585, 'creative': 254, 'suite': 1129, 'protocoles': 931, 'site': 1065, 'adaptatif': 25, 'opération': 812, 'plsql': 870, 'service': 1050, 'apis': 70, 'ee': 367, 'javaserver': 606, 'faces': 429, 'jsf': 618, 'esprit': 410, 'restful': 994, 'webservices': 1275, 'tomcat': 1191, 'representational': 986, 'state': 1108, 'aspect': 91, 'aop': 67, 'access': 17, 'dao': 280, 'mockito': 730, 'token': 1190, 'jwt': 625, 'rabbitmq': 958, 'solid': 1080, 'principles': 894, 'operations': 807, 'delivery': 298, 'automation': 108, 'planning': 869, 'strategic': 1115, 'electronics': 377, 'cmmi': 200, 'new': 773, '9000': 14, 'introduction': 584, 'bourse': 148, 'veille': 1250, 'contrôle': 246, 'outsourcing': 832, 'montage': 741, 'financier': 443, 'stratégie': 1117, 'commerciale': 206, 'dev': 308, 'langages': 643, 'kubernetes': 637, 'vivado': 1263, 'jsx': 621, 'cao': 170, 'siemens': 1058, 'wincc': 1278, 'solide': 1081, 'works': 1286, 'tia': 1183, 'portal': 878, 'xlinix': 1295, 'xrelais': 1299, 'step7': 1111, 'jeux': 611, 'cascading': 175, 'sheets': 1056, 'cassandra': 176, 'neo4j': 764, 'traitement': 1199, 'image': 546, 'norme': 778, 'pci': 849, 'dss': 347, 'basic': 132, 'vb': 1246, 'verilog': 1252, 'vba': 1247, 'autosar': 115, '264': 7, 'pascal': 843, 'bugzilla': 155, 'tls': 1185, 'modelsim': 734, 'step': 1110, 'keil': 629, 'uvision': 1239, 'smart': 1070, 'house': 526, 'cubemx': 267, 'visualisation': 1262, 'redux': 977, 'spss': 1100, 'objects': 790, 'renewable': 983, 'energy': 394, 'solar': 1079, 'efficiency': 371, 'sas': 1028, 'marklogic': 698, 'vantiq': 1245, 'content': 235, 'bash': 131, 'cucumber': 268, 'selenium': 1044, 'nuance': 784, 'communications': 210, 'docusign': 335, 'web3': 1273, 'solidity': 1082, 'merise': 713, 'besu': 135, 'ethereum': 413, 'tools': 1193, 'algorithms': 39, 'structures': 1121, 'dart': 282, 'flutter': 455, 'circuits': 193, 'intégrés': 588, 'opérationnelle': 813, 'eaglesoft': 363, 'vente': 1251, 'multimédia': 749, 'vidéo': 1254, 'qweb': 957, 'sponsorship': 1098, 'german': 482, 'automotive': 112, 'controller': 244, 'area': 84, 'local': 665, 'interconnect': 569, 'lin': 660, 'diagnostics': 318, 'uds': 1220, 'microcontrollers': 717, 'unit': 1229, '26262': 6, 'misra': 726, 'safety': 1022, 'dtc': 348, 'aspice': 92, 'canoe': 168, 'aurix': 104, 'tresos': 1206, 'cdd': 179, 'swat': 1135, 'réseaux': 1019, 'sociaux': 1075, 'relations': 981, 'média': 755, 'numérique': 785, 'rédaction': 1011, 'communiqué': 211, 'contenus': 237, 'b2b': 127, 'search': 1041, 'engine': 396, 'optimization': 809, 'seo': 1046, 'analytics': 55, 'email': 381, 'social': 1074, 'media': 711, 'interculturel': 571, 'comportement': 214, 'organisationnel': 821, 'recrutement': 974, 'marque': 699, 'employeur': 388, 'interculturelle': 572, 'travailler': 1204, 'efficacement': 370, 'sous': 1088, 'pression': 890, 'sphinix': 1093, 'pratiques': 887, 'émotionnelle': 1308, 'psycho': 937, 'sociologie': 1076, 'organisations': 822, 'droit': 344, 'tavail': 1155, 'techniques': 1165, 'systéme': 1144, 'information': 556, 'resources': 990, 'sirh': 1064, 'fonctionnement': 459, 'ergonomie': 406, 'santé': 1026, 'dans': 279, 'le': 649, 'aquisition': 77, 'talents': 1154, 'par': 838, 'ordinateur': 818, 'avec': 120, 'les': 656, 'employés': 389, 'change': 186, 'sourcing': 1087, 'human': 536, 'négociations': 787, 'performances': 855, 'recruiting': 971, 'employee': 386, 'negotiation': 763, 'interviews': 582, 'acquisition': 21, 'training': 1198, 'technique': 1164, 'encryption': 392, 'standard': 1105, 'sélection': 1146, 'personnel': 857, 'innovantion': 563, 'technologique': 1167, 'assurance': 100, 'star': 1106, 'onboarding': 798, 'recruitment': 972, 'hr': 528, 'logiciels': 668, 'talent': 1153, 'labor': 639, 'law': 648, 'générale': 510, 'clearcase': 196, 'debugging': 294, 'kernel': 631, 'dvb': 350, 'firmware': 448, 'quality': 952, 'operationnelle': 806, 'avionique': 121, 'do178': 331, 'prévisions': 934, 'budgétaires': 154, 'aérospatial': 125, 'direction': 322, 'multifonctionnelle': 748, 'interpersonnelle': 580, 'production': 910, 'obtention': 793, 'résultats': 1021, 'interne': 576, 'policies': 875, 'sens': 1045, 'organisation': 820, 'coaching': 202, 'organizational': 825, 'savoir': 1029, 'appliquer': 74, 'réglementation': 1014, 'convention': 247, 'uf046': 1221, 'respecter': 991, 'confidentialité': 226, 'être': 1315, 'rigoureux': 998, 'méthodique': 758, 'tableau': 1149, 'bord': 147, 'contrat': 241, 'candidats': 167, 'xprosystem': 1297, 'avancé': 117, 'gestred': 484, 'ciel': 191, 'pyra': 944, 'prj': 899, 'dbase3': 289, 'macro': 680, 'notions': 782, 'comptables': 216, 'code': 203, 'écoute': 1301, 'tableaux': 1150, 'indicateurs': 553, 'clés': 199, 'fidélisation': 438, 'kpi': 636, 'booléenne': 144, 'psychologie': 938, 'affaires': 32, 'humain': 533, 'dévellopment': 360, 'organisionel': 823, 'chasseur': 189, 'tête': 1216, 'incident': 549, 'itil': 599, 'problem': 901, 'v3': 1241, 'foundations': 464, 'dreamweaver': 340, 'vmware': 1264, 'esx': 411, 'cvs': 272, 'ms': 746, 'visio': 1259, 'cortexm': 252, 'strategy': 1116, 'speaking': 1090, 'interviewing': 581, 'research': 989, 'intercultural': 570, 'interpersonal': 579, 'relationships': 982, 'teaching': 1159, 'translation': 1202, 'writing': 1287, 'general': 480, 'protection': 927, 'regulation': 978, 'gdpr': 478, 'canva': 169, 'community': 212, 'psychometrics': 939, 'knwoledge': 634, 'commerce': 204, 'dynamic': 351, 'host': 525, 'dhcp': 317, 'enseignement': 399, 'procédures': 909, 'stockées': 1114, 'professionnel': 914, '4g': 10, 'anfsf': 61, 'wireless': 1280, 'technologies': 1166, 'handover': 515, 'blind': 140, 'source': 1086, 'seperation': 1047, 'wi': 1277, 'fi': 436, 'toefl': 1188, 'handoff': 514, 'interworking': 583, 'heterogeneous': 519, 'delf': 297, 'b2': 126, 'telec': 1168, 'toeic': 1189, 'andsf': 60, 'sans': 1025, 'fil': 440, 'réseau': 1018, 'opérateur': 811, 'télécommunications': 1213, '3g': 9, 'mobiles': 728, 'radio': 959, 'dépannage': 357, 'orientation': 826, 'nouvelles': 783, 'recrues': 968, 'privacy': 897, 'carrière': 173, 'têtes': 1217, 'mise': 725, 'place': 865, 'procédure': 908, 'symfony3': 1138, 'sping': 1096, 'richfaces': 997, 'mantis': 690, '8i': 13, '9i': 16, '10g': 0, '11g': 1, 'jaspersoftetl': 602, 'logique': 669, 'rationnelle': 962, 'allaise': 40, 'taches': 1151, 'répétitives': 1017, 'electronic': 376, 'imbus': 547, 'designing': 307, 'rational': 961, 'doors': 338, 'ibb': 542, 'bus': 160, 'vector': 1248, 'canalyzer': 166, 'paiements': 836, 'électroniques': 1306, 'télécom': 1212, 'solving': 1084, 'industrial': 554, 'mécanique': 752, 'ansys': 66, 'catia': 177, 'mastercam': 701, 'grafcet': 498, 'gmao': 488, 'gemma': 479, 'sociétés': 1077, 'concurrence': 225, 'pétrole': 948, 'gaz': 475, 'international': 575, 'contrats': 242, 'fiscal': 449, 'tcml': 1157, 'scade': 1030, 'trace32': 1196, 'wireshark': 1281, 'pvcs': 942, 'decalib': 295, 'account': 19, 'capital': 171, 'developpement': 312, 'rémunération': 1016, 'avantages': 119, 'budgets': 153, 'paies': 837, 'pointage': 873, 'privé': 898, 'virtuel': 1257, 'vpn': 1267, 'voix': 1266, 'voip': 1265, 'informatiques': 558, 'xcode': 1292, 'robot': 1001, 'appium': 71, 'azure': 124, 'pycharm': 943, 'livraison': 663, 'docteur': 333, 'esp32': 408, 'group': 504, 'work': 1283, 'comsol': 223, 'assembler': 93, 'lunix': 678, 'portes': 879, 'programmables': 916, 'domotique': 336, 'gwt': 508, 'flex': 451, 'toolkit': 1192, 'labwindows': 641, 'cvi': 271, 'formations': 463, 'conseil': 233, 'bizagi': 138, 'connaissances': 231, 'innovation': 564, 'alliances': 41, 'stratégiques': 1119, 'lean': 653, 'manufacturing': 694, 'résolution': 1020, 'problèmes': 902, 'assistée': 98, 'cad': 162, 'intégré': 586, 'debian': 292, 'centos': 182, 'questasim': 955, 'black': 139, 'assura': 99, 'genus': 481, 'innovus': 565, 'incisive': 550, 'fedora': 434, 'orcade': 817, 'navigation': 762, 'webdriver': 1274, 'junit': 623, 'cypress': 277, 'testng': 1176, 'testrail': 1177, 'manuels': 692, 'régression': 1015, 'postman': 882, 'xraiy': 1298, 'payroll': 847, 'diplômés': 321, 'financial': 442, 'reporting': 984, 'forecasting': 461, 'corporate': 250, 'managériale': 687, 'managerial': 686, 'accounting': 20, 'internal': 574, 'controls': 245, 'exploration': 422, 'simulations': 1062, 'salariés': 1023, 'facturation': 430, 'leader': 650, 'humaine': 534, 'datawarehouse': 287, 'python3': 946, 'turbo': 1208, 'éléments': 1307, 'finis': 445, 'netbeans': 766, 'dita': 326, 'oxygen': 833, 'revenus': 995, 'différés': 319, 'successions': 1128, 'indemnisation': 552, 'accidents': 18, 'mobilité': 729, 'tenserflow': 1171, 'ci': 190, 'cd': 178, 'grade': 495, 'kiras': 632, 'cspn': 264, 'méthodologie': 759, 'politiques': 876, 'grh': 501, 'sûreté': 1148, 'cybersécurité': 274, 'spécification': 1101, 'réalisation': 1010, 'exécution': 427, 'unitaires': 1231, 'véhicules': 1269, 'électriques': 1304, 'hil': 521, 'vehicules': 1249, 'atmosphériques': 101, 'autonomes': 113, 'mesure': 714, 'teststand': 1179, 'ares': 85, 'extract': 426, 'transform': 1201, 'load': 664, 'etl': 414, 'manipulation': 689, 'multidimensional': 747, 'expressions': 424, 'mdx': 708, 'learnig': 654, 'alm': 42, 'hp': 527, 'qtp': 950, 'manuel': 691, 'execution': 418, 'customer': 269, 'cv': 270, 'event': 416, 'outreach': 831, 'prezi': 891, 'produit': 912, 'flowable': 453, 'drools': 345, 'microservices': 720, 'h2o': 511, 'manufacture': 693, 'mécatronique': 754, 'logicielle': 667, 'intégrée': 587, 'automate': 106, 'industriel': 555, 'quartus': 954, 'cisco': 195, 'sim': 1061, 'ets5': 415, 'leading': 652, 'meetings': 712, 'énergie': 1309, 'pneumatique': 871, 'ordonnancement': 819, 'mecanique': 710, 'fluide': 454, 'electonique': 375, 'manageme': 683, 'building': 157, 'règlement': 1009, 'dirigeants': 324, 'recruitments': 973, 'job': 614, 'descriptions': 304, 'executive': 419, 'contract': 240, 'hiring': 522, 'screening': 1035, 'headhunters': 518, 'workforce': 1285, 'recruiters': 970, 'employer': 387, 'branding': 151, 'advertising': 31, 'appraisal': 75, 'publicité': 941, 'descriptif': 302, 'poste': 880, 'organization': 824, 'graduate': 496, 'recruitement': 969, 'outlook': 830, 'grafana': 497, 'devexpress': 313, 'hris': 529, 'peoplesoft': 851, 'grid': 502, 'processeurs': 904, 'neurones': 772, 'finite': 446, 'element': 378, 'fea': 433, 'usinage': 1237, 'kaizen': 627, 'hoshin': 524, 'supply': 1131, 'chain': 185, '5s': 11, 'dmaic': 329, 'amdec': 47, 'pdca': 850, 'cycle': 275, 'pareto': 841, 'ishikawa': 595, 'why': 1276, 'improvement': 548, 'trésorerie': 1207, 'crédit': 263, 'évènements': 1314, 'recouvrement': 967, 'créances': 262, 'mondial': 738, 'opéra': 810, 'chasse': 188, 'facebook': 428, 'jupyter': 624, 'analytical': 54, 'failure': 431, 'mode': 731, 'effects': 368, 'fmea': 456, 'fmeca': 457, 'pep': 852, 'projects': 922, 'desalination': 301, 'primavera': 892, 'placement': 866, 'régie': 1013, 'prospection': 926, 'internes': 577, 'administratives': 28, 'dossiers': 339, 'cdi': 180, 'elevator': 379, 'pitch': 863, 'conflits': 228, 'stress': 1120, 'établir': 1311, 'adaptabilité': 24, 'négociation': 786, 'dynamisme': 353, 'rust': 1008, 'mplab': 743, 'scraping': 1034, 'databases': 286, 'lightroom': 659, 'assessment': 96, 'center': 181, 'master': 700, 'diversity': 327, 'inclusion': 551, 'engagement': 395, 'mapping': 696, 'relationnel': 980, 'dépendances': 359, 'crud': 261, 'primefaces': 893, 'avancées': 118, 'plan': 867, 'expériences': 425, 'discrète': 325, 'autonomie': 114, 'flexibilité': 452, 'priorités': 896, 'téléphoniques': 1214, 'fiches': 437, 'compétence': 220, 'élaboration': 1302, 'un': 1225, 'guide': 506, 'uvre': 1240, 'démarche': 356, 'gpec': 493, 'connaissance': 230, 'passation': 844}\n"
          ]
        }
      ],
      "source": [
        "# summarize\n",
        "print(vectorizer.vocabulary_)"
      ]
    },
    {
      "cell_type": "code",
      "execution_count": 9,
      "metadata": {
        "colab": {
          "base_uri": "https://localhost:8080/"
        },
        "id": "0DPnHluovoXT",
        "outputId": "bc03aedf-0f7c-4cae-c6d4-df59c9fd3b3d"
      },
      "outputs": [
        {
          "name": "stdout",
          "output_type": "stream",
          "text": [
            "[5.82028157 5.82028157 5.41481646 ... 4.72166928 5.41481646 5.82028157]\n"
          ]
        }
      ],
      "source": [
        "#Focus on IDF VALUES\n",
        "print(vectorizer.idf_)"
      ]
    },
    {
      "cell_type": "code",
      "execution_count": 10,
      "metadata": {
        "id": "zkMyjCnsvoXU"
      },
      "outputs": [],
      "source": [
        "# encode document\n",
        "job_offer = vectorizer.transform([job_offer_description])"
      ]
    },
    {
      "cell_type": "code",
      "execution_count": 11,
      "metadata": {
        "id": "gg-R-v-m0JGk"
      },
      "outputs": [],
      "source": [
        "matrix = vectorizer.transform(Resumes)"
      ]
    },
    {
      "cell_type": "code",
      "execution_count": 28,
      "metadata": {},
      "outputs": [
        {
          "name": "stdout",
          "output_type": "stream",
          "text": [
            "<class 'scipy.sparse.csr.csr_matrix'>\n"
          ]
        }
      ],
      "source": [
        "from scipy.sparse import csr_matrix\n",
        "sparseMatrix = csr_matrix((matrix.shape[0], matrix.shape[1]))\n",
        "\n",
        "for i in job_offer.indices:\n",
        "\tsparseMatrix[:,i] = matrix[:,i]\n",
        "\n",
        "matrix = sparseMatrix\n",
        "\n",
        "print(matrix)"
      ]
    },
    {
      "cell_type": "code",
      "execution_count": 13,
      "metadata": {
        "colab": {
          "base_uri": "https://localhost:8080/"
        },
        "id": "SB0gddICzvPt",
        "outputId": "3006bc78-ce98-4307-af88-dabb79b4b010"
      },
      "outputs": [
        {
          "name": "stdout",
          "output_type": "stream",
          "text": [
            "[[0.81639175 0.18083762 0.44050083 0.48046485 0.51793034 0.54338531\n",
            "  0.25381316 0.34326268 0.41487003 0.33170639 0.45064289 0.18083762\n",
            "  0.5054262  0.35188396 0.66598321 0.63081347 0.         0.64172795\n",
            "  0.32040292 0.2798397  0.67625944 0.         0.4776308  0.77916256\n",
            "  0.18083762 0.26256389 0.18083762 0.25381316 0.24372361 0.\n",
            "  0.53628142 0.47116131 0.38296639 0.44131789 0.27807713 0.50503085\n",
            "  0.17809794 0.         0.58947742 0.         0.51336996 0.\n",
            "  0.27807713 0.         0.63081347 0.33376424 0.53628142 0.17809794\n",
            "  0.34931213 0.33170639 0.26256389 0.2656533  0.51793034 0.33376424\n",
            "  0.27807713 0.         0.         0.2798397  0.18083762 0.27807713\n",
            "  0.33170639 0.30348549 0.2798397  0.         0.61374328 0.4555409\n",
            "  0.32040292 0.25381316 0.24372361 0.33170639 0.41829164 0.33170639\n",
            "  0.25381316 0.18083762 0.47651273 0.45201938 0.50118663 0.45731028\n",
            "  0.         0.21356033 0.36791341 0.51451749 0.27807713 0.65291108\n",
            "  0.43555577 0.45201938 0.66598321 0.35639275 0.         0.38695929\n",
            "  0.64755703 0.47651273 0.         0.18083762 0.18083762 0.33238717\n",
            "  0.27807713 0.67625944 0.         0.24372361 0.         0.\n",
            "  0.         0.5056212  0.         0.         0.24372361 0.\n",
            "  0.17809794 0.27692928 0.         0.24372361 0.17809794 0.17809794\n",
            "  0.24372361 0.24372361 0.         0.27807713 0.18083762 0.30348549\n",
            "  0.         0.31292723 0.         0.37572201 0.         0.30348549\n",
            "  0.         0.         0.35188396 0.35188396 0.38810996 0.36791341\n",
            "  0.24372361 0.44926702 0.27807713 0.24372361 0.27807713 0.18083762\n",
            "  0.24372361 0.31285708 0.63081347 0.65238635 0.39624056 0.17809794\n",
            "  0.         0.30186102 0.33170639 0.24091277 0.24372361 0.\n",
            "  0.         0.         0.         0.36791341 0.32040292 0.27807713\n",
            "  0.         0.24372361 0.35944693 0.77916256 0.31325204 0.35924931\n",
            "  0.51336996 0.24372361 0.4555409  0.48634654 0.31325204 0.24372361\n",
            "  0.         0.47090117 0.18083762 0.33170639 0.         0.\n",
            "  0.         0.36791341 0.32040292 0.27807713 0.         0.31325204\n",
            "  0.24372361 0.35924931 0.35944693 0.         0.24372361 0.\n",
            "  0.51336996 0.4555409  0.48634654 0.31325204 0.24372361 0.\n",
            "  0.18083762 0.         0.33170639 0.24372361 0.38296639 0.47090117\n",
            "  0.         0.18083762 0.49917082 0.33170639 0.         0.\n",
            "  0.24372361 0.17809794 0.24372361 0.24372361 0.18083762 0.24372361\n",
            "  0.24372361 0.42017067 0.         0.49062435 0.40256581 0.\n",
            "  0.33339502 0.24372361 0.17809794 0.24372361 0.         0.24372361\n",
            "  0.         0.18083762 0.         0.17809794 0.30348549 0.\n",
            "  0.17809794 0.36791341 0.65238635 0.24372361 0.         0.2798397\n",
            "  0.24372361 0.24372361 0.24372361 0.42597696 0.21356033 0.\n",
            "  0.17809794 0.50415042 0.24372361 0.         0.         0.24372361\n",
            "  0.24372361]]\n"
          ]
        }
      ],
      "source": [
        "from sklearn.metrics.pairwise import cosine_similarity\n",
        "\n",
        "matches = cosine_similarity(job_offer,matrix)\n",
        "print(matches)"
      ]
    },
    {
      "cell_type": "code",
      "execution_count": 14,
      "metadata": {},
      "outputs": [],
      "source": [
        "# from sklearn.metrics.pairwise import euclidean_distances\n",
        "\n",
        "# matches = euclidean_distances(job_offer,matrix)\n",
        "# print(matches)"
      ]
    },
    {
      "cell_type": "code",
      "execution_count": 15,
      "metadata": {},
      "outputs": [],
      "source": [
        "# from sklearn.neighbors import NearestNeighbors\n",
        "# nbrs = NearestNeighbors(n_neighbors=5).fit(matrix)\n",
        "# distances, indices = nbrs.kneighbors(job_offer)\n",
        "# print(distances)\n",
        "# print(indices)"
      ]
    },
    {
      "cell_type": "code",
      "execution_count": 16,
      "metadata": {},
      "outputs": [
        {
          "name": "stdout",
          "output_type": "stream",
          "text": [
            "[  0 159  23  97  20]\n"
          ]
        }
      ],
      "source": [
        "#number of candidates\n",
        "n = 5\n",
        "\n",
        "#best candidates indices\n",
        "indices = (-matches[0]).argsort()[:n]\n",
        "\n",
        "print(indices)"
      ]
    },
    {
      "cell_type": "code",
      "execution_count": 17,
      "metadata": {},
      "outputs": [
        {
          "name": "stdout",
          "output_type": "stream",
          "text": [
            "['Java', 'JEE', 'ASP.NET MVC', 'SQL', 'Python', 'c', 'C++', 'Linux', 'JavaScript', 'jQuery', 'CSS3', 'HTML', 'c#', 'Spring Boot', 'Camunda BPM', 'MongoDB', 'Leadership', 'Axure RP', 'StarUML', 'Prelude ERP'] -> 81.64 %\n",
            "['Python (Programming Language)', 'Web Development', 'Computer Vision', 'Deep Learning', 'Programming', 'Scrum', 'Artificial Intelligence (AI)', 'Java', 'C (Programming Language)', 'JavaScript', 'Linux', 'PHP', 'MySQL', 'Ubuntu', 'Unified Modeling Language (UML)', 'XML', 'Eclipse', 'TensorFlow', 'FastAPI', 'MongoDB', 'PhpMyAdmin', 'Angular', 'Spring Boot', 'SQL', 'HTML', 'CSS', 'JEE', 'Android Studio', 'OpenCV'] -> 77.92 %\n",
            "['Python (Programming Language)', 'Web Development', 'Computer Vision', 'Deep Learning', 'Programming', 'Scrum', 'Artificial Intelligence (AI)', 'Java', 'C (Programming Language)', 'JavaScript', 'Linux', 'PHP', 'MySQL', 'Ubuntu', 'Unified Modeling Language (UML)', 'XML', 'Eclipse', 'TensorFlow', 'FastAPI', 'MongoDB', 'PhpMyAdmin', 'Angular', 'Spring Boot', 'SQL', 'HTML', 'CSS', 'JEE', 'Android Studio', 'OpenCV'] -> 77.92 %\n",
            "['C', 'Java', 'C++', 'Sponsorship', 'Gestion de projet', 'Microsoft Office', 'VHDL', 'Assembly Language', 'Python', 'Leadership', 'Teamwork', 'English', 'French', 'German', 'Packet Tracer', 'stm32', 'Matlab', 'Altium Designer', 'Arduino', 'Raspberry Pi', 'Automotive', 'Scrum', 'Agile Methodologies', 'V-Model', 'Controller Area Network (CAN)', 'Local Interconnect Network (LIN)', 'Embedded C', 'Diagnostics ', 'UDS', 'Testing', 'AUTOSAR', 'Microcontrollers', 'Unit Testing', 'ISO 26262', 'MISRA', 'Automotive Engineering', 'Automotive Safety', 'DTC', 'Automotive SPICE (ASPICE)', 'CANoe', 'Embedded Software Programming', 'Requirements Analysis', 'Aurix', 'Tresos', 'CDD', 'SWAT'] -> 67.63 %\n",
            "['C++', 'Embedded Systems', 'C', 'Robotics', 'Scrum', 'Printed Circuit Board (PCB) Design', 'Artificial Intelligence (AI)', 'Agile Methodologies', 'Kanban', 'Java', 'Linux', 'Arduino', 'AutoCAD', 'Assembly Language', 'XML', 'Embedded Linux', 'Microsoft Office', 'Windows', 'MATLAB', 'Ubuntu', 'EasyEDA', 'Python (Programming Language)', 'Flask', 'Tortoise SVN', 'Jira', 'Trello', 'Embedded Software', 'Teamwork', 'Leadership', 'Communication', 'HTTP/MQTT', 'Raspberry Pi', 'ISIS', 'Qt', 'Qt Creator', 'Hypertext Transfer Protocol (HTTP)', 'Embedded Software Programming', 'Android Studio'] -> 67.63 %\n",
            "------\n",
            " 'Java', 'JEE', 'SQL', 'Python', 'Arduino', 'Raspberry Pi', 'c', 'Spring Boot', 'MongoDB', 'Leadership'\n"
          ]
        }
      ],
      "source": [
        "for i in indices:\n",
        "\tprint(Resumes[i],'->',\"{:.2f}\".format(matches[0][i]*100),'%')\n",
        "\n",
        "print('------\\n',job_offer_description)"
      ]
    },
    {
      "cell_type": "code",
      "execution_count": 26,
      "metadata": {},
      "outputs": [
        {
          "ename": "IndexError",
          "evalue": "only integers, slices (`:`), ellipsis (`...`), numpy.newaxis (`None`) and integer or boolean arrays are valid indices",
          "output_type": "error",
          "traceback": [
            "\u001b[1;31m---------------------------------------------------------------------------\u001b[0m",
            "\u001b[1;31mIndexError\u001b[0m                                Traceback (most recent call last)",
            "\u001b[1;32m~\\AppData\\Local\\Temp/ipykernel_18148/2404812329.py\u001b[0m in \u001b[0;36m<module>\u001b[1;34m\u001b[0m\n\u001b[0;32m      4\u001b[0m \u001b[1;33m\u001b[0m\u001b[0m\n\u001b[0;32m      5\u001b[0m \u001b[1;31m#Make Plotly figure\u001b[0m\u001b[1;33m\u001b[0m\u001b[1;33m\u001b[0m\u001b[0m\n\u001b[1;32m----> 6\u001b[1;33m fig1 = go.Scatter(x=matches['Java'],\n\u001b[0m\u001b[0;32m      7\u001b[0m                   \u001b[0my\u001b[0m\u001b[1;33m=\u001b[0m\u001b[0mmatches\u001b[0m\u001b[1;33m[\u001b[0m\u001b[1;36m0\u001b[0m\u001b[1;33m]\u001b[0m\u001b[1;33m,\u001b[0m\u001b[1;33m\u001b[0m\u001b[1;33m\u001b[0m\u001b[0m\n\u001b[0;32m      8\u001b[0m                   mode='markers')\n",
            "\u001b[1;31mIndexError\u001b[0m: only integers, slices (`:`), ellipsis (`...`), numpy.newaxis (`None`) and integer or boolean arrays are valid indices"
          ]
        }
      ],
      "source": [
        "\n",
        "#Import modules\n",
        "import plotly\n",
        "import plotly.graph_objs as go\n",
        "\n",
        "#Make Plotly figure\n",
        "fig1 = go.Scatter(x=matches['Java'],\n",
        "                  y=matches[0],\n",
        "                  mode='markers')\n",
        "\n",
        "#Make Plot.ly Layout\n",
        "mylayout = go.Layout(xaxis=dict(title=\"Java\"),\n",
        "                     yaxis=dict( title=\"JEE\"))\n",
        "\n",
        "#Plot and save html\n",
        "plotly.offline.plot({\"data\": [fig1],\n",
        "                     \"layout\": mylayout},\n",
        "                     auto_open=True)"
      ]
    }
  ],
  "metadata": {
    "colab": {
      "collapsed_sections": [],
      "name": "Feature extraction from text.ipynb",
      "provenance": []
    },
    "kernelspec": {
      "display_name": "Python 3",
      "language": "python",
      "name": "python3"
    },
    "language_info": {
      "codemirror_mode": {
        "name": "ipython",
        "version": 3
      },
      "file_extension": ".py",
      "mimetype": "text/x-python",
      "name": "python",
      "nbconvert_exporter": "python",
      "pygments_lexer": "ipython3",
      "version": "3.9.7"
    }
  },
  "nbformat": 4,
  "nbformat_minor": 0
}

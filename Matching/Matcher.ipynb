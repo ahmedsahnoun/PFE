{
  "cells": [
    {
      "cell_type": "code",
      "execution_count": 39,
      "metadata": {},
      "outputs": [],
      "source": [
        "from ast import literal_eval\n",
        "from sklearn.feature_extraction.text import TfidfVectorizer"
      ]
    },
    {
      "cell_type": "code",
      "execution_count": 40,
      "metadata": {
        "id": "sHoOSBklvoXS"
      },
      "outputs": [],
      "source": [
        "vectorizer = TfidfVectorizer()"
      ]
    },
    {
      "cell_type": "code",
      "execution_count": 41,
      "metadata": {},
      "outputs": [],
      "source": [
        "Resumes = []\n",
        "\n",
        "import csv\n",
        "with open('C:\\\\Users\\\\Ahmed\\\\Desktop\\\\PFE\\\\Linkedin scraping\\\\Data.csv', 'r', encoding=\"ISO-8859-1\") as f:\n",
        "\tereader = csv.DictReader(f)\n",
        "\tfor row in ereader:\n",
        "\t\tskill=literal_eval(row['skills'])\n",
        "\t\tresult=set(skill)\n",
        "\t\tfor x in skill:\n",
        "\t\t\tresult = set(result)|set(x.split())\n",
        "\t\tResumes.append(str(list(result)))"
      ]
    },
    {
      "cell_type": "code",
      "execution_count": 42,
      "metadata": {
        "colab": {
          "base_uri": "https://localhost:8080/",
          "height": 35
        },
        "id": "IXMu5icpvoXU",
        "outputId": "b9d0d829-ed47-4e06-ad1b-d2759be426f9"
      },
      "outputs": [],
      "source": [
        "job_offer_description = \"'Java', 'JEE', 'SQL', 'Python', 'machine learning', 'c', 'Spring Boot', 'MongoDB', 'Leadership'\""
      ]
    },
    {
      "cell_type": "code",
      "execution_count": 43,
      "metadata": {
        "colab": {
          "base_uri": "https://localhost:8080/"
        },
        "id": "0GVHyJ1MvoXS",
        "outputId": "32fa1ea3-a5bb-41ec-e2fb-5722802b5a19"
      },
      "outputs": [
        {
          "data": {
            "text/plain": [
              "TfidfVectorizer()"
            ]
          },
          "execution_count": 43,
          "metadata": {},
          "output_type": "execute_result"
        }
      ],
      "source": [
        "# tokenize and build vocab\n",
        "vectorizer.fit(Resumes)"
      ]
    },
    {
      "cell_type": "code",
      "execution_count": 44,
      "metadata": {
        "colab": {
          "base_uri": "https://localhost:8080/"
        },
        "id": "gAa84GrkvoXT",
        "outputId": "22d30676-70e5-4758-c463-4c73c9a50ef5"
      },
      "outputs": [
        {
          "name": "stdout",
          "output_type": "stream",
          "text": [
            "{'python': 943, 'mongodb': 739, 'prelude': 886, 'erp': 407, 'axure': 123, 'java': 602, 'spring': 1097, 'staruml': 1105, 'mvc': 749, 'camunda': 164, 'bpm': 150, 'asp': 90, 'net': 764, 'jquery': 615, 'leadership': 650, 'javascript': 604, 'boot': 145, 'html': 529, 'jee': 607, 'linux': 660, 'rp': 1003, 'css3': 266, 'sql': 1100, 'anglais': 62, 'compétences': 221, 'mathématiques': 702, 'programmation': 915, 'analytiques': 57, 'langage': 641, 'de': 291, 'communication': 209, 'cascade': 174, 'en': 391, 'feuilles': 434, 'style': 1124, 'css': 265, 'enterprise': 401, 'edition': 366, 'nosql': 778, 'office': 796, 'uml': 1221, 'ubuntu': 1217, 'studio': 1123, 'database': 285, 'oracle': 813, 'matlab': 703, 'angularjs': 65, 'packet': 833, 'firebase': 446, 'arduino': 82, 'microsoft': 720, 'android': 59, 'mysql': 750, 'ensp': 400, 'kotlin': 634, 'tracer': 1195, 'système': 1140, 'embedded': 385, 'administration': 27, 'temps': 1168, 'lora': 672, 'programming': 918, 'git': 484, 'cadence': 163, 'virtuoso': 1255, 'spectre': 1090, 'eagle': 362, 'systèmes': 1141, 'pcb': 846, 'microcontrôleurs': 717, 'x92exploitation': 1291, 'réel': 1010, 'rtos': 1005, 'microelectronics': 718, 'language': 643, 'lorawan': 673, 'embarqués': 383, 'pi': 859, 'raspberry': 958, 'informatique': 556, 'django': 328, 'web': 1269, 'go': 489, 'javafx': 603, 'angular': 63, 'des': 300, 'internet': 577, 'tests': 1176, 'fonctionnels': 457, 'apache': 68, 'kafka': 625, 'hyperledger': 536, 'docker': 332, 'objets': 791, 'test': 1171, 'parallèle': 838, 'rest': 991, 'amazon': 44, 'gitlab': 486, 'services': 1049, 'postgresql': 879, 'objet': 790, 'orientée': 826, 'poo': 875, 'api': 69, 'méthodes': 756, 'agiles': 34, 'unitaire': 1228, 'blockchain': 141, 'golang': 490, 'json': 618, 'stm32': 1110, 'nodejs': 776, 'vhdl': 1250, 'openmp': 802, 'artificial': 88, 'intelligence': 566, 'ai': 36, 'networks': 768, 'skills': 1066, 'engineering': 397, 'big': 137, 'science': 1031, 'natural': 760, 'processing': 903, 'nlp': 774, 'computer': 218, 'arabic': 79, 'learning': 654, 'machine': 678, 'deep': 296, 'data': 284, 'critical': 257, 'vision': 1257, 'french': 469, 'neural': 769, 'darknet': 281, 'thinking': 1179, 'creativity': 255, 'english': 398, 'mining': 722, 'tensorflow': 1170, 'analysis': 52, 'security': 1040, 'ingénierie': 559, 'batch': 133, 'développement': 361, 'framework': 465, 'hibernate': 519, 'scrum': 1036, 'elasticsearch': 374, 'typescript': 1209, 'svn': 1132, 'maven': 704, 'subversion': 1125, 'keras': 629, 'optimisation': 807, 'agile': 33, 'object': 787, 'oriented': 825, 'methodologies': 714, 'html5': 530, 'products': 909, 'jenkins': 608, 'gestion': 482, 'x92équipe': 1298, 'sponsoring': 1095, 'opérations': 812, 'client': 197, 'programmes': 917, 'du': 349, 'photoshop': 856, 'stocks': 1111, 'presse': 887, 'proteus': 926, 'ingénieurs': 560, 'guitare': 506, 'logistique': 669, 'compte': 217, 'iot': 590, 'projet': 921, 'crm': 259, 'software': 1076, 'developement': 309, 'changement': 187, 'relation': 977, 'évènement': 1324, 'la': 637, 'pl': 862, 'twitter': 1208, 'bootstrap': 146, 'sgbd': 1052, 'thymeleaf': 1180, 'pour': 881, 'excel': 417, 'altium': 43, 'designer': 306, 'management': 683, 'tortoise': 1193, 'labview': 639, 'angular6': 64, 'arabe': 78, 'français': 467, 'development': 311, 'telecommunications': 1167, 'ams': 48, 'project': 919, 'isis': 595, 'field': 438, 'programmable': 913, 'gate': 473, 'arrays': 87, 'fpga': 464, 'cis': 194, 'xilinx': 1305, 'ise': 593, 'capture': 172, 'orcad': 814, 'simulink': 1061, 'systems': 1139, 'signal': 1058, 'psim': 933, 'pspice': 934, 'beaglebone': 134, 'powerpoint': 883, 'conception': 224, 'produits': 911, 'mécaniques': 752, 'robotique': 1001, 'word': 1279, 'solidworks': 1081, 'autocad': 105, 'logiciel': 665, '20022': 3, 'monetique': 738, 'embarqué': 382, 'p2pe': 832, '8583': 12, 'iso': 596, 'validation': 1241, 'xml': 1307, 'sécurité': 1143, 'génie': 508, 'électrique': 1314, 'visual': 1258, 'audit': 102, 'jira': 612, 'sur': 1131, 'emv': 390, 'assembly': 95, 'board': 143, 'windows': 1276, 'qt': 947, 'creator': 256, 'trello': 1203, 'flask': 449, 'printed': 893, 'easyeda': 364, 'kanban': 627, 'transfer': 1198, 'teamwork': 1159, 'protocol': 927, 'design': 305, 'hypertext': 537, 'circuit': 192, 'http': 531, 'robotics': 1000, 'mqtt': 744, 'sqlite': 1101, 'google': 491, 'material': 701, 'application': 72, 'mobile': 726, 'interface': 572, 'sdk': 1038, 'graphic': 498, 'logo': 670, 'developer': 310, 'junior': 621, 'testing': 1172, 'modèle': 735, 'contenu': 236, 'phpmyadmin': 858, 'oop': 798, 'présentations': 931, 'recherche': 964, 'base': 129, 'algorithmes': 38, 'outils': 827, 'bases': 130, 'unifié': 1226, 'openerp': 801, 'modélisation': 736, 'bureautique': 159, 'swing': 1134, 'cms': 201, 'données': 337, 'php': 857, 'espagnol': 409, 'unified': 1225, 'eclipse': 365, 'modeling': 732, 'fastapi': 431, 'opencv': 800, 'monétique': 741, 'react': 961, 'js': 616, 'sequelize': 1046, 'node': 775, 'utilisateur': 1236, 'wxwidgets': 1285, 'graphique': 499, 'pytorch': 945, 'odoo': 794, 'redis': 973, 'unix': 1232, 'artificielle': 89, 'ocp': 793, 'arm': 86, 'ahb': 35, 'team': 1158, 'hardware': 515, 'description': 303, 'payment': 844, 'perl': 854, 'amba': 45, 'ddr': 290, 'languages': 644, 'tcl': 1154, 'processors': 904, 'jhipster': 611, 'ingedev': 558, 'sélénium': 1145, 'struts2': 1121, 'sharepoint': 1053, 'j2ee': 599, 'testlink': 1173, 'jsp': 619, 'protocole': 928, 'yocto': 1311, 'openwrt': 803, 'électronique': 1316, 'ip': 591, 'buildroot': 158, 'spark': 1087, 'talend': 1150, 'open': 799, 'vue': 1265, 'décisionnelle': 354, 'cloud': 198, 'computing': 219, 'scala': 1029, 'laravel': 645, 'confluence': 229, 'groovy': 502, 'shell': 1055, 'script': 1034, 'power': 882, 'powershell': 884, 'bi': 136, 'express': 422, 'adobe': 29, 'xd': 1304, 'it': 597, 'technician': 1161, 'illustrator': 544, 'support': 1130, 'front': 470, 'end': 393, 'sap': 1025, 'ibm': 542, 'lotus': 674, 'notes': 780, 'back': 128, 'user': 1234, 'active': 22, 'directory': 323, 'maintenance': 680, 'ipbx': 592, 'symfony': 1135, 'real': 963, 'time': 1182, 'operating': 804, 'of': 795, 'freertos': 468, 'perforce': 851, 'driver': 342, 'assistance': 97, 'valgrind': 1240, 'cross': 260, 'set': 1051, 'paradigm': 837, 'top': 1192, 'things': 1178, 'device': 314, 'drivers': 343, 'advanced': 30, 'workbench': 1281, 'box': 149, 'adas': 26, 'gdb': 476, 'cortex': 251, 'control': 243, 'automatic': 107, 'compilers': 213, 'devices': 315, 'iar': 539, 'reactive': 962, 'architecture': 81, 'driven': 341, 'ros': 1002, 'gazebo': 475, 'x86': 1286, 'méthode': 755, 'latex': 646, 'unity': 1230, 'sketchup': 1065, 'ardupilot': 83, 'gnu': 488, 'debugger': 293, 'mips': 723, 'dash': 283, 'hls': 522, 'slam': 1067, 'mavlink': 705, 'tv': 1207, 'télévision': 1213, 'awk': 122, 'can': 165, 'assembleur': 94, 'spi': 1092, 'rpc': 1004, 'rmi': 998, 'hdfs': 516, 'uart': 1216, 'sed': 1041, 'patterns': 843, 'usb': 1233, 'requirements': 986, 'servlets': 1050, 'soap': 1070, 'dependency': 299, 'activemq': 23, 'lucene': 676, 'jersey': 609, 'network': 766, 'functional': 472, 'technical': 1160, 'injection': 561, 'specifications': 1089, 'lte': 675, 'ui': 1220, 'jpa': 614, 'struts': 1120, 'ejb': 372, 'system': 1137, 'documentation': 334, 'gprs': 493, 'networking': 767, 'requirement': 985, 'tcp': 1156, 'cxf': 273, 'gsm': 504, 'umts': 1222, 'programmer': 916, 'certified': 183, 'sun': 1128, 'ia': 538, 'architect': 80, 'scène': 1037, 'analyse': 50, 'full': 471, 'stack': 1102, 'travail': 1201, 'frameworks': 466, 'ajax': 37, 'builder': 156, 'mean': 708, 'server': 1047, 'analyses': 51, 'unity3d': 1231, 'dynamics': 352, 'and': 58, 'notation': 779, 'process': 901, 'common': 208, 'lisp': 661, 'core': 249, 'business': 161, 'model': 731, 'virtualisation': 1253, 'prolog': 923, 'applications': 73, 'schéma': 1030, 'xampp': 1302, 'intellij': 567, 'hadoop': 512, 'xamarin': 1301, 'idea': 543, 'redmine': 974, 'sts': 1122, 'elk': 380, 'neurolinguistique': 770, 'pnl': 870, 'elastic': 373, 'maple': 694, 'toad': 1185, 'qualité': 951, 'cycles': 276, 'consulting': 234, 'commerciaux': 207, 'processus': 905, 'analyste': 53, 'commercial': 205, 'qualite': 949, 'maitrise': 681, 'vie': 1252, '9001': 15, 'statitical': 1107, 'systeme': 1138, 'amélioration': 49, 'continue': 238, 'sigma': 1057, 'planification': 866, 'six': 1064, 'projets': 922, 'ios': 589, 'native': 759, 'objective': 788, 'do': 330, '178': 2, 'vagrant': 1239, 'scripting': 1035, 'continuous': 239, 'integration': 565, 'points': 872, 'formation': 461, 'modes': 734, 'défaillance': 355, 'et': 412, 'leurs': 657, 'effets': 369, 'amde': 46, 'entretien': 404, '360': 8, 'stratégique': 1116, 'haccp': 511, 'performance': 852, 'dangers': 278, 'ressources': 990, 'quotidienne': 954, 'x92une': 1297, 'entreprise': 403, 'compétition': 222, 'rh': 994, 'entretiens': 405, 'analytique': 56, 'humaines': 534, 'préparation': 930, 'critiques': 258, 'leur': 656, 'maîtrise': 706, 'comptabilité': 215, 'loi': 671, 'exigences': 420, 'finance': 440, '2021': 5, 'aux': 116, '2015': 4, 'évaluation': 1323, 'financière': 443, 'marketing': 696, 'digital': 320, 'embauche': 384, 'départ': 358, 'auditeur': 103, 'certifié': 184, 'soa': 1069, 'couch': 253, 'mikroc': 721, 'pro': 898, 'for': 459, 'pic': 860, 'wcomp': 1268, 'conversation': 248, 'parler': 840, 'public': 938, 'mangodb': 687, 'iarworkbench': 540, 'entrepreneuriat': 402, 'mplap': 743, 'équipe': 1321, 'manager': 684, 'db': 288, 'bluemix': 142, 'soapui': 1071, 'ionic': 588, 'jasper': 600, 'reports': 983, 'microchip': 715, 'dsp': 346, 'apprentissage': 76, 'automatique': 109, 'github': 485, 'spice': 1093, 'configuration': 227, 'vérification': 1267, 'risques': 997, 'automatisation': 110, 'automobile': 111, 'knowledge': 632, 'btob': 152, 'sales': 1022, 'to': 1184, 'nexus': 773, 'protocoles': 929, 'jdbc': 606, 'suite': 1127, 'creative': 254, 'connectivity': 232, 'intégration': 584, 'sonar': 1083, 'devops': 316, 'site': 1063, 'adaptatif': 25, 'x92opération': 1295, 'x92applications': 1288, 'service': 1048, 'plsql': 868, 'apis': 70, 'aspect': 91, 'faces': 428, 'esprit': 410, 'access': 17, 'token': 1188, 'jwt': 624, 'principles': 892, 'state': 1106, 'solid': 1078, 'aop': 67, 'javaserver': 605, 'mockito': 729, 'dao': 280, 'rabbitmq': 956, 'ee': 367, 'jsf': 617, 'representational': 984, 'webservices': 1272, 'restful': 992, 'tomcat': 1189, 'operations': 806, 'delivery': 298, 'automation': 108, 'veille': 1247, 'outsourcing': 830, 'new': 772, 'financier': 442, 'electronics': 377, 'montage': 740, '9000': 14, 'contrôle': 246, 'planning': 867, 'strategic': 1113, 'introduction': 583, 'bourse': 148, 'cmmi': 200, 'langages': 642, 'dev': 308, 'stratégie': 1115, 'commerciale': 206, 'kubernetes': 636, 'step7': 1109, 'tia': 1181, 'xrelais': 1310, 'portal': 876, 'solide': 1079, 'vivado': 1260, 'siemens': 1056, 'cao': 170, 'works': 1283, 'xlinix': 1306, 'jsx': 620, 'wincc': 1275, 'jeux': 610, 'cascading': 175, 'sheets': 1054, 'cassandra': 176, 'neo4j': 763, 'tls': 1183, 'basic': 132, 'vba': 1244, 'norme': 777, 'verilog': 1249, 'pascal': 841, '264': 7, 'dss': 347, 'traitement': 1197, 'image': 545, 'autosar': 115, 'pci': 847, 'vb': 1243, 'bugzilla': 155, 'house': 525, 'keil': 628, 'uvision': 1237, 'cubemx': 267, 'modelsim': 733, 'smart': 1068, 'step': 1108, 'visualisation': 1259, 'objects': 789, 'redux': 975, 'spss': 1098, 'marklogic': 697, 'energy': 394, 'content': 235, 'selenium': 1042, 'sas': 1026, 'renewable': 981, 'nuance': 783, 'bash': 131, 'solar': 1077, 'communications': 210, 'vantiq': 1242, 'docusign': 335, 'cucumber': 268, 'efficiency': 371, 'web3': 1270, 'besu': 135, 'solidity': 1080, 'tools': 1191, 'merise': 712, 'ethereum': 413, 'dart': 282, 'flutter': 454, 'structures': 1119, 'algorithms': 39, 'opérationnelle': 811, 'circuits': 193, 'intégrés': 587, 'eaglesoft': 363, 'vidéo': 1251, 'qweb': 955, 'multimédia': 748, 'vente': 1248, 'automotive': 112, 'tresos': 1204, 'controller': 244, 'area': 84, 'uds': 1218, 'aspice': 92, 'interconnect': 568, 'local': 664, 'lin': 659, 'swat': 1133, 'sponsorship': 1096, 'unit': 1227, '26262': 6, 'safety': 1020, 'canoe': 168, 'german': 481, 'microcontrollers': 716, 'diagnostics': 318, 'cdd': 179, 'aurix': 104, 'misra': 725, 'dtc': 348, 'communiqué': 211, 'optimization': 808, 'numérique': 784, 'réseaux': 1017, 'email': 381, 'analytics': 55, 'b2b': 127, 'sociaux': 1073, 'engine': 396, 'relations': 979, 'x92entreprise': 1290, 'rédaction': 1009, 'search': 1039, 'social': 1072, 'média': 754, 'media': 710, 'seo': 1044, 'contenus': 237, 'sous': 1086, 'organisationnel': 819, 'comportement': 214, 'recrutement': 972, 'marque': 698, 'interculturel': 570, 'interculturelle': 571, 'travailler': 1202, 'pression': 888, 'employeur': 388, 'sphinix': 1091, 'efficacement': 370, 'émotionnelle': 1319, 'systéme': 1142, 'information': 555, 'resources': 988, 'sirh': 1062, 'fonctionnement': 458, 'techniques': 1163, 'psycho': 935, 'sociologie': 1074, 'organisations': 820, 'tavail': 1153, 'aquisition': 77, 'talents': 1152, 'pratiques': 885, 'droit': 344, 'ergonomie': 406, 'santé': 1024, 'dans': 279, 'le': 648, 'par': 836, 'ordinateur': 816, 'personnel': 855, 'encryption': 392, 'standard': 1103, 'sourcing': 1085, 'performances': 853, 'change': 186, 'human': 535, 'recruiting': 969, 'acquisition': 21, 'sélection': 1144, 'employee': 386, 'technique': 1162, 'interviews': 581, 'employés': 389, 'les': 655, 'avec': 120, 'negotiation': 762, 'training': 1196, 'négociations': 786, 'assurance': 100, 'recruitment': 970, 'générale': 509, 'onboarding': 797, 'logiciels': 667, 'talent': 1151, 'hr': 527, 'law': 647, 'labor': 638, 'innovantion': 562, 'technologique': 1165, 'star': 1104, 'kernel': 630, 'clearcase': 196, 'quality': 950, 'firmware': 447, 'debugging': 294, 'dvb': 350, 'multifonctionnelle': 747, 'direction': 322, 'interpersonnelle': 579, 'résultats': 1019, 'obtention': 792, 'avionique': 121, 'production': 908, 'prévisions': 932, 'budgétaires': 154, 'operationnelle': 805, 'aérospatial': 125, 'do178': 331, 'dbase3': 289, 'interne': 575, 'confidentialité': 226, 'bord': 147, 'code': 203, 'booléenne': 144, 'x92organisation': 1296, 'avancé': 117, 'policies': 873, 'fidélisation': 437, 'méthodique': 757, 'ciel': 191, 'rigoureux': 996, 'appliquer': 74, 'prj': 897, 'clés': 199, 'uf046': 1219, 'savoir': 1027, 'respecter': 989, 'comptables': 216, 'coaching': 202, 'tableau': 1147, 'candidats': 167, 'tableaux': 1148, 'x92indicateurs': 1292, 'xprosystem': 1308, 'pyra': 942, 'réglementation': 1012, 'macro': 679, 'sens': 1043, 'contrat': 241, 'notions': 781, 'organizational': 823, 'kpi': 635, 'être': 1325, 'convention': 247, 'gestred': 483, 'écoute': 1312, 'dévellopment': 360, 'organisionel': 821, 'humain': 532, 'chasseur': 189, 'psychologie': 936, 'affaires': 32, 'tête': 1214, 'cortexm': 252, 'v3': 1238, 'incident': 548, 'vmware': 1261, 'esx': 411, 'foundations': 463, 'itil': 598, 'problem': 899, 'ms': 745, 'visio': 1256, 'cvs': 272, 'dreamweaver': 340, 'psychometrics': 937, 'community': 212, 'protection': 925, 'intercultural': 569, 'writing': 1284, 'knwoledge': 633, 'research': 987, 'general': 479, 'interpersonal': 578, 'relationships': 980, 'strategy': 1114, 'translation': 1200, 'canva': 169, 'interviewing': 580, 'speaking': 1088, 'teaching': 1157, 'gdpr': 477, 'regulation': 976, 'enseignement': 399, 'stockées': 1112, 'dhcp': 317, 'dynamic': 351, 'host': 524, 'commerce': 204, 'procédures': 907, 'anfsf': 61, 'wireless': 1277, 'technologies': 1164, 'interworking': 582, '4g': 10, 'dépannage': 357, 'opérateur': 810, 'télécommunications': 1211, 'sans': 1023, 'mobiles': 727, 'réseau': 1016, 'heterogeneous': 518, 'toeic': 1187, '3g': 9, 'delf': 297, 'b2': 126, 'radio': 957, 'handoff': 513, 'source': 1084, 'professionnel': 912, 'wi': 1274, 'fi': 435, 'toefl': 1186, 'blind': 140, 'seperation': 1045, 'telec': 1166, 'andsf': 60, 'fil': 439, 'handover': 514, 'place': 863, 'carrière': 173, 'têtes': 1215, 'mise': 724, 'recrues': 966, 'orientation': 824, 'privacy': 895, 'procédure': 906, 'nouvelles': 782, 'symfony3': 1136, 'sping': 1094, 'jaspersoftetl': 601, '8i': 13, '9i': 16, '10g': 0, '11g': 1, 'richfaces': 995, 'mantis': 689, 'logique': 668, 'rationnelle': 960, 'allaise': 40, 'taches': 1149, 'répétitives': 1015, 'designing': 307, 'bus': 160, 'doors': 338, 'canalyzer': 166, 'electronic': 376, 'rational': 959, 'vector': 1245, 'imbus': 546, 'ibb': 541, 'télécom': 1210, 'paiements': 834, 'électroniques': 1317, 'solving': 1082, 'industrial': 553, 'catia': 177, 'grafcet': 497, 'gmao': 487, 'mécanique': 751, 'ansys': 66, 'gemma': 478, 'mastercam': 700, 'contrats': 242, 'gaz': 474, 'sociétés': 1075, 'fiscal': 448, 'international': 574, 'pétrole': 946, 'concurrence': 225, 'trace32': 1194, 'scade': 1028, 'wireshark': 1278, 'tcml': 1155, 'pvcs': 940, 'decalib': 295, 'capital': 171, 'account': 19, 'developpement': 312, 'budgets': 153, 'paies': 835, 'rémunération': 1014, 'avantages': 119, 'pointage': 871, 'docteur': 333, 'voix': 1263, 'azure': 124, 'vpn': 1264, 'robot': 999, 'privé': 896, 'virtuel': 1254, 'informatiques': 557, 'xcode': 1303, 'livraison': 662, 'voip': 1262, 'pycharm': 941, 'appium': 71, 'group': 503, 'work': 1280, 'lunix': 677, 'domotique': 336, 'programmables': 914, 'esp32': 408, 'comsol': 223, 'portes': 877, 'assembler': 93, 'flex': 450, 'gwt': 507, 'toolkit': 1190, 'labwindows': 640, 'cvi': 271, 'alliances': 41, 'conseil': 233, 'connaissances': 231, 'innovation': 563, 'stratégiques': 1117, 'bizagi': 138, 'formations': 462, 'résolution': 1018, 'lean': 652, 'manufacturing': 693, 'problèmes': 900, 'assistée': 98, 'cad': 162, 'orcade': 815, 'black': 139, 'fedora': 433, 'debian': 292, 'genus': 480, 'innovus': 564, 'incisive': 549, 'assura': 99, 'questasim': 953, 'intégré': 585, 'centos': 182, 'navigation': 761, 'xraiy': 1309, 'x92api': 1287, 'postman': 880, 'junit': 622, 'testng': 1174, 'régression': 1013, 'x92automatisation': 1289, 'webdriver': 1271, 'manuels': 691, 'cypress': 277, 'testrail': 1175, 'diplômés': 321, 'payroll': 845, 'forecasting': 460, 'financial': 441, 'reporting': 982, 'managerial': 685, 'corporate': 250, 'managériale': 686, 'internal': 573, 'controls': 245, 'accounting': 20, 'exploration': 421, 'simulations': 1060, 'salariés': 1021, 'leader': 649, 'indicateurs': 552, 'humaine': 533, 'facturation': 429, 'python3': 944, 'turbo': 1206, 'datawarehouse': 287, 'éléments': 1318, 'oxygen': 831, 'dita': 326, 'finis': 444, 'netbeans': 765, 'successions': 1126, 'accidents': 18, 'revenus': 993, 'différés': 319, 'indemnisation': 551, 'mobilité': 728, 'x92information': 1293, 'kiras': 631, 'grade': 494, 'ci': 190, 'cd': 178, 'méthodologie': 758, 'cspn': 264, 'tenserflow': 1169, 'politiques': 874, 'grh': 500, 'véhicules': 1266, 'mesure': 713, 'atmosphériques': 101, 'sûreté': 1146, 'spécification': 1099, 'vehicules': 1246, 'réalisation': 1008, 'électriques': 1315, 'exécution': 426, 'hil': 520, 'unitaires': 1229, 'autonomes': 113, 'cybersécurité': 274, 'ares': 85, 'teststand': 1177, 'extract': 425, 'multidimensional': 746, 'transform': 1199, 'mdx': 707, 'manipulation': 688, 'expressions': 423, 'etl': 414, 'load': 663, 'learnig': 653, 'qtp': 948, 'manuel': 690, 'execution': 418, 'hp': 526, 'alm': 42, 'customer': 269, 'cv': 270, 'outreach': 829, 'prezi': 889, 'event': 416, 'produit': 910, 'microservices': 719, 'drools': 345, 'h2o': 510, 'flowable': 452, 'automate': 106, 'industriel': 554, 'intégrée': 586, 'mécatronique': 753, 'logicielle': 666, 'manufacture': 692, 'ets5': 415, 'cisco': 195, 'quartus': 952, 'leading': 651, 'meetings': 711, 'sim': 1059, 'énergie': 1320, 'mecanique': 709, 'fluide': 453, 'ordonnancement': 817, 'electonique': 375, 'pneumatique': 869, 'manageme': 682, 'building': 157, 'publicité': 939, 'contract': 240, 'règlement': 1007, 'screening': 1033, 'headhunters': 517, 'workforce': 1282, 'job': 613, 'descriptions': 304, 'executive': 419, 'organization': 822, 'employer': 387, 'branding': 151, 'graduate': 495, 'recruitement': 967, 'dirigeants': 324, 'advertising': 31, 'recruiters': 968, 'hiring': 521, 'poste': 878, 'descriptif': 302, 'appraisal': 75, 'recruitments': 971, 'outlook': 828, 'grafana': 496, 'devexpress': 313, 'peoplesoft': 849, 'hris': 528, 'grid': 501, 'neurones': 771, 'processeurs': 902, '5s': 11, 'improvement': 547, 'fea': 432, 'pdca': 848, 'cycle': 275, 'amdec': 47, 'usinage': 1235, 'dmaic': 329, 'kaizen': 626, 'ishikawa': 594, 'pareto': 839, 'why': 1273, 'chain': 185, 'supply': 1129, 'element': 378, 'finite': 445, 'hoshin': 523, 'crédit': 263, 'trésorerie': 1205, 'recouvrement': 965, 'mondial': 737, 'chasse': 188, 'x92évènements': 1299, 'créances': 262, 'opéra': 809, 'facebook': 427, 'projects': 920, 'jupyter': 623, 'failure': 430, 'mode': 730, 'effects': 368, 'fmea': 455, 'fmeca': 456, 'analytical': 54, 'primavera': 890, 'pep': 850, 'desalination': 301, 'régie': 1011, 'placement': 864, 'administratives': 28, 'dossiers': 339, 'elevator': 379, 'pitch': 861, 'internes': 576, 'prospection': 924, 'cdi': 180, 'organisation': 818, 'adaptabilité': 24, 'conflits': 228, 'stress': 1118, 'dynamisme': 353, 'négociation': 785, 'établir': 1322, 'rust': 1006, 'mplab': 742, 'scraping': 1032, 'databases': 286, 'diversity': 327, 'center': 181, 'assessment': 96, 'lightroom': 658, 'master': 699, 'engagement': 395, 'inclusion': 550, 'mapping': 695, 'relationnel': 978, 'avancées': 118, 'plan': 865, 'primefaces': 891, 'discrète': 325, 'dépendances': 359, 'autonomie': 114, 'x92optimisation': 1294, 'expériences': 424, 'crud': 261, 'priorités': 894, 'flexibilité': 451, 'téléphoniques': 1212, 'fiches': 436, 'x9cuvre': 1300, 'une': 1224, 'démarche': 356, 'gpec': 492, 'guide': 505, 'élaboration': 1313, 'un': 1223, 'passation': 842, 'compétence': 220, 'connaissance': 230}\n"
          ]
        }
      ],
      "source": [
        "print(vectorizer.vocabulary_)"
      ]
    },
    {
      "cell_type": "code",
      "execution_count": 45,
      "metadata": {
        "colab": {
          "base_uri": "https://localhost:8080/"
        },
        "id": "0DPnHluovoXT",
        "outputId": "bc03aedf-0f7c-4cae-c6d4-df59c9fd3b3d"
      },
      "outputs": [
        {
          "name": "stdout",
          "output_type": "stream",
          "text": [
            "[5.82028157 5.82028157 5.41481646 ... 5.12713439 4.72166928 5.82028157]\n"
          ]
        }
      ],
      "source": [
        "#Focus on IDF VALUES\n",
        "print(vectorizer.idf_)"
      ]
    },
    {
      "cell_type": "code",
      "execution_count": 46,
      "metadata": {
        "id": "zkMyjCnsvoXU"
      },
      "outputs": [
        {
          "name": "stdout",
          "output_type": "stream",
          "text": [
            "  (0, 1100)\t0.22563135612647656\n",
            "  (0, 1097)\t0.2982309475075049\n",
            "  (0, 943)\t0.19105907037352626\n",
            "  (0, 739)\t0.3614408394121437\n",
            "  (0, 678)\t0.3722665583213125\n",
            "  (0, 654)\t0.34270742763440076\n",
            "  (0, 650)\t0.2574995569524408\n",
            "  (0, 607)\t0.44348694380039044\n",
            "  (0, 602)\t0.18816453257099058\n",
            "  (0, 145)\t0.3722665583213125\n"
          ]
        }
      ],
      "source": [
        "# encode document\n",
        "job_offer = vectorizer.transform([job_offer_description])\n",
        "print(job_offer)"
      ]
    },
    {
      "cell_type": "code",
      "execution_count": 47,
      "metadata": {
        "id": "gg-R-v-m0JGk"
      },
      "outputs": [],
      "source": [
        "matrix = vectorizer.transform(Resumes)"
      ]
    },
    {
      "cell_type": "code",
      "execution_count": 48,
      "metadata": {},
      "outputs": [
        {
          "name": "stdout",
          "output_type": "stream",
          "text": [
            "  (0, 145)\t0.6233641404956164\n",
            "  (0, 602)\t0.15754171237782083\n",
            "  (0, 607)\t0.37131170039794975\n",
            "  (0, 650)\t0.2155928143552381\n",
            "  (0, 739)\t0.3026181820040025\n",
            "  (0, 943)\t0.15996517888196535\n",
            "  (0, 1097)\t0.49939075672155486\n",
            "  (0, 1100)\t0.18891100105108347\n",
            "  (1, 943)\t1.0\n",
            "  (2, 602)\t0.7863488885704366\n",
            "  (2, 943)\t0.39922265260813994\n",
            "  (2, 1100)\t0.47146229869265205\n",
            "  (4, 145)\t0.75132353009791\n",
            "  (4, 602)\t0.1898806617064401\n",
            "  (4, 943)\t0.19280159874898517\n",
            "  (4, 1097)\t0.6019018449473091\n",
            "  (5, 602)\t0.4417687459825274\n",
            "  (5, 943)\t0.8971289623421067\n",
            "  (6, 602)\t0.14503081925382175\n",
            "  (6, 654)\t0.7924416729614282\n",
            "  (6, 678)\t0.5738607929607692\n",
            "  (6, 943)\t0.14726183050300354\n",
            "  (7, 602)\t0.15389360184609385\n",
            "  (7, 943)\t0.15626094941168164\n",
            "  (7, 1097)\t0.9756532555164238\n",
            "  :\t:\n",
            "  (230, 654)\t0.4934548284494141\n",
            "  (230, 678)\t0.8040242895021122\n",
            "  (230, 943)\t0.2751006053345582\n",
            "  (231, 650)\t1.0\n",
            "  (233, 654)\t0.7888173407462049\n",
            "  (233, 678)\t0.5712361680452108\n",
            "  (233, 943)\t0.1465883098962815\n",
            "  (233, 1100)\t0.17311357733251675\n",
            "  (234, 650)\t1.0\n",
            "  (235, 650)\t1.0\n",
            "  (236, 650)\t1.0\n",
            "  (237, 602)\t0.2128017355194494\n",
            "  (237, 654)\t0.7751592117764499\n",
            "  (237, 739)\t0.40876586497772777\n",
            "  (237, 943)\t0.4321505355625901\n",
            "  (238, 1100)\t1.0\n",
            "  (240, 602)\t1.0\n",
            "  (241, 145)\t0.37045452361028147\n",
            "  (241, 602)\t0.09362431397043765\n",
            "  (241, 607)\t0.22066411932595492\n",
            "  (241, 1097)\t0.8903378596476832\n",
            "  (241, 1100)\t0.11226653949564597\n",
            "  (242, 650)\t1.0\n",
            "  (245, 650)\t1.0\n",
            "  (246, 650)\t1.0\n"
          ]
        }
      ],
      "source": [
        "from scipy.sparse import lil_matrix\n",
        "sparseMatrix = lil_matrix((matrix.shape[0], matrix.shape[1]))\n",
        "\n",
        "for i in job_offer.indices:\n",
        "\tsparseMatrix[:,i] = matrix[:,i]\n",
        "\n",
        "matrix = sparseMatrix\n",
        "\n",
        "from sklearn.preprocessing import normalize\n",
        "matrix = normalize(matrix, axis=1)\n",
        "\n",
        "print(matrix)"
      ]
    },
    {
      "cell_type": "code",
      "execution_count": 49,
      "metadata": {},
      "outputs": [],
      "source": [
        "# from sklearn.neighbors import NearestNeighbors\n",
        "# nbrs = NearestNeighbors(n_neighbors=5).fit(matrix)\n",
        "# distances, indices = nbrs.kneighbors(job_offer)\n",
        "# print(distances)\n",
        "# print(indices)"
      ]
    },
    {
      "cell_type": "code",
      "execution_count": 50,
      "metadata": {
        "colab": {
          "base_uri": "https://localhost:8080/"
        },
        "id": "SB0gddICzvPt",
        "outputId": "3006bc78-ce98-4307-af88-dabb79b4b010"
      },
      "outputs": [
        {
          "name": "stdout",
          "output_type": "stream",
          "text": [
            "[[0.61092107 1.27195985 1.1570525  1.         0.96771516 1.22104067\n",
            "  0.95850906 1.14036627 1.05988712 0.95498517 1.05801347 0.96494673\n",
            "  0.9460401  1.12091621 1.13977597 1.20982694 1.         0.92886725\n",
            "  1.         1.18688076 1.13926456 1.         0.96425656 0.55706208\n",
            "  1.27195985 1.20216077 1.10239094 1.20982694 1.21860612 1.\n",
            "  0.96466673 0.95795219 1.10461592 1.16564202 1.18844871 0.96583993\n",
            "  1.27423347 1.         0.86856624 1.         1.27195985 1.\n",
            "  1.18844871 1.         1.20982694 1.14205279 0.96466673 1.27423347\n",
            "  1.075735   1.13977597 1.21781087 1.19944256 0.96011868 1.14802102\n",
            "  1.18844871 1.         1.         1.20063159 1.27195985 1.18844871\n",
            "  1.13977597 1.16564202 1.20063159 1.         1.08336977 1.0185388\n",
            "  1.         1.20982694 1.21860612 1.15711655 1.07767487 1.13977597\n",
            "  1.22104067 1.27195985 0.99654747 1.02218512 0.74622663 0.99104462\n",
            "  0.99398709 1.24448274 1.27195985 0.95317293 1.18844871 1.02218512\n",
            "  1.06332752 0.82768025 1.13977597 1.27423347 1.         1.08735337\n",
            "  0.97827334 1.0185388  1.         1.27195985 1.10239094 1.13914474\n",
            "  1.18844871 1.12091621 1.         1.21860612 1.         1.\n",
            "  1.         1.12623227 1.         1.         1.21860612 1.\n",
            "  1.27423347 1.18946871 1.         1.21860612 1.27423347 1.27423347\n",
            "  1.21860612 1.21860612 1.         1.18844871 1.27195985 0.91017312\n",
            "  1.         1.1570525  1.         1.09821776 1.         1.18123618\n",
            "  1.         1.         1.13079955 0.88433476 1.08623476 1.27195985\n",
            "  1.21860612 1.02260808 1.18844871 1.21860612 1.19944256 0.96679252\n",
            "  1.21860612 1.15711655 1.20982694 1.18123618 1.08759023 1.27423347\n",
            "  1.         1.16711349 0.95498517 1.22104067 1.21860612 1.\n",
            "  1.         1.         1.         1.27195985 1.         1.18844871\n",
            "  1.         1.21860612 1.1042469  0.55706208 0.93874882 1.10397568\n",
            "  1.27195985 1.21860612 1.0185388  0.98606672 1.15675588 1.21860612\n",
            "  1.         0.99823967 1.27195985 1.13977597 1.         1.\n",
            "  1.         1.27195985 1.         1.18844871 1.         0.93874882\n",
            "  1.21860612 1.10397568 1.1042469  1.         1.21860612 1.\n",
            "  1.27195985 1.0185388  0.98606672 1.15675588 1.21860612 1.\n",
            "  1.27195985 1.         1.13977597 1.21860612 1.10461592 0.99823967\n",
            "  1.         1.27195985 1.27195985 1.01383258 1.         1.\n",
            "  1.21860612 1.27423347 1.21860612 1.21860612 1.27195985 1.21860612\n",
            "  1.06895665 1.05459006 1.         0.9898358  1.21860612 1.\n",
            "  0.8827799  1.21860612 1.27423347 1.21860612 1.         1.21860612\n",
            "  1.         1.27195985 1.         1.27423347 1.16564202 1.\n",
            "  1.27423347 1.27195985 0.92874265 1.21860612 1.         0.94862789\n",
            "  1.21860612 1.21860612 1.21860612 0.96332184 1.24448274 1.\n",
            "  1.27423347 0.95473199 1.21860612 1.         1.         1.21860612\n",
            "  1.21860612]]\n"
          ]
        }
      ],
      "source": [
        "from sklearn.metrics.pairwise import euclidean_distances\n",
        "\n",
        "matches = euclidean_distances(job_offer,matrix)\n",
        "print(matches)"
      ]
    },
    {
      "cell_type": "code",
      "execution_count": 51,
      "metadata": {},
      "outputs": [
        {
          "name": "stdout",
          "output_type": "stream",
          "text": [
            "[159  23   0  76  85]\n"
          ]
        }
      ],
      "source": [
        "#number of candidates\n",
        "n = 5\n",
        "\n",
        "#best candidates indices\n",
        "indices = (matches[0]).argsort()[:n]\n",
        "\n",
        "print(indices)"
      ]
    },
    {
      "cell_type": "code",
      "execution_count": 52,
      "metadata": {},
      "outputs": [
        {
          "name": "stdout",
          "output_type": "stream",
          "text": [
            "['Python (Programming Language)', 'Web', 'Development', 'Artificial Intelligence (AI)', 'Spring', 'Scrum', 'Computer', 'Intelligence', 'Unified', 'Language', 'Spring Boot', '(Programming', 'Eclipse', 'XML', 'PhpMyAdmin', 'Ubuntu', 'Learning', 'Studio', 'Artificial', 'Boot', 'Deep', 'Modeling', 'FastAPI', 'SQL', 'Vision', 'Unified Modeling Language (UML)', 'MongoDB', 'Python', 'Java', 'Android', '(AI)', 'MySQL', 'PHP', 'Deep Learning', 'JavaScript', 'Programming', 'Android Studio', 'Angular', 'Language)', 'HTML', 'JEE', 'Linux', 'CSS', 'C (Programming Language)', 'TensorFlow', 'OpenCV', 'Web Development', 'C', '(UML)', 'Computer Vision'] -> 0.72\n",
            "['Python (Programming Language)', 'Web', 'Development', 'Artificial Intelligence (AI)', 'Spring', 'Scrum', 'Computer', 'Intelligence', 'Unified', 'Language', 'Spring Boot', '(Programming', 'Eclipse', 'XML', 'PhpMyAdmin', 'Ubuntu', 'Learning', 'Studio', 'Artificial', 'Boot', 'Deep', 'Modeling', 'FastAPI', 'SQL', 'Vision', 'Unified Modeling Language (UML)', 'MongoDB', 'Python', 'Java', 'Android', '(AI)', 'MySQL', 'PHP', 'Deep Learning', 'JavaScript', 'Programming', 'Android Studio', 'Angular', 'Language)', 'HTML', 'JEE', 'Linux', 'CSS', 'C (Programming Language)', 'TensorFlow', 'OpenCV', 'Web Development', 'C', '(UML)', 'Computer Vision'] -> 0.72\n",
            "['Python', 'MongoDB', 'Prelude ERP', 'Axure', 'Java', 'Spring', 'StarUML', 'MVC', 'Camunda', 'Camunda BPM', 'ASP.NET MVC', 'jQuery', 'ERP', 'Leadership', 'JavaScript', 'c', 'Spring Boot', 'HTML', 'JEE', 'Linux', 'ASP.NET', 'RP', 'Prelude', 'Boot', 'Axure RP', 'CSS3', 'BPM', 'SQL', 'C++', 'c#'] -> 0.69\n",
            "['Excel', 'Spring', 'R', 'Microsoft Excel', 'Spring Boot', '(Programming', 'Git', '(OOP)', 'REST', 'Learning', 'Machine', 'Boot', 'Deep', 'Machine Learning', 'Symfony', 'Framework Spring', 'C++', 'Python', 'REST APIs', 'PL/SQL', 'Flask', 'APIs', 'MySQL', 'Object-Oriented Programming (OOP)', 'Deep Learning', 'Programming', 'Angular', 'Language)', 'Linux', 'C (Programming Language)', 'Microsoft', 'Django', 'Object-Oriented', 'Framework', 'R (Programming Language)', 'C'] -> 0.63\n",
            "['Python', 'MongoDB', 'PL/SQL', 'Java', 'Docker', 'LaTeX', 'Deep Learning', 'R', 'Cassandra', 'Linux', 'Learning', 'Machine', 'Database', 'Deep', 'Oracle Database', 'FastAPI', 'SQL', 'Machine Learning', 'C', 'Oracle', 'Neo4j', 'PostgreSQL'] -> 0.59\n",
            "------\n",
            " 'Java', 'JEE', 'SQL', 'Python', 'machine learning', 'c', 'Spring Boot', 'MongoDB', 'Leadership'\n"
          ]
        }
      ],
      "source": [
        "for i in indices:\n",
        "\tprint(Resumes[i],'->',\"{:.2f}\".format((1-matches[0][i]/2)))\n",
        "\n",
        "print('------\\n',job_offer_description)"
      ]
    }
  ],
  "metadata": {
    "colab": {
      "collapsed_sections": [],
      "name": "Feature extraction from text.ipynb",
      "provenance": []
    },
    "interpreter": {
      "hash": "ad2bdc8ecc057115af97d19610ffacc2b4e99fae6737bb82f5d7fb13d2f2c186"
    },
    "kernelspec": {
      "display_name": "Python 3.9.7 ('base')",
      "language": "python",
      "name": "python3"
    },
    "language_info": {
      "codemirror_mode": {
        "name": "ipython",
        "version": 3
      },
      "file_extension": ".py",
      "mimetype": "text/x-python",
      "name": "python",
      "nbconvert_exporter": "python",
      "pygments_lexer": "ipython3",
      "version": "3.9.7"
    }
  },
  "nbformat": 4,
  "nbformat_minor": 0
}

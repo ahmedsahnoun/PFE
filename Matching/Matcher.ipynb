{
  "cells": [
    {
      "cell_type": "code",
      "execution_count": 228,
      "metadata": {},
      "outputs": [],
      "source": [
        "from ast import literal_eval\n",
        "from sklearn.feature_extraction.text import TfidfVectorizer"
      ]
    },
    {
      "cell_type": "code",
      "execution_count": 229,
      "metadata": {
        "id": "sHoOSBklvoXS"
      },
      "outputs": [],
      "source": [
        "vectorizer = TfidfVectorizer()"
      ]
    },
    {
      "cell_type": "code",
      "execution_count": 230,
      "metadata": {},
      "outputs": [],
      "source": [
        "Resumes = []\n",
        "\n",
        "import csv\n",
        "with open('C:\\\\Users\\\\Ahmed\\\\Desktop\\\\PFE\\\\Linkedin scraping\\\\Data.csv', 'r', encoding=\"ISO-8859-1\") as f:\n",
        "\tereader = csv.DictReader(f)\n",
        "\tfor row in ereader:\n",
        "\t\tskill=literal_eval(row['skills'])\n",
        "\t\tresult=set(skill)\n",
        "\t\tfor x in skill:\n",
        "\t\t\tresult = set(result)|set(x.split())\n",
        "\t\tResumes.append(str(list(result)))"
      ]
    },
    {
      "cell_type": "code",
      "execution_count": 231,
      "metadata": {
        "colab": {
          "base_uri": "https://localhost:8080/",
          "height": 35
        },
        "id": "IXMu5icpvoXU",
        "outputId": "b9d0d829-ed47-4e06-ad1b-d2759be426f9"
      },
      "outputs": [],
      "source": [
        "job_offer_description = \"'Java', 'JEE', 'SQL', 'Python', 'machine learning', 'c', 'Spring Boot', 'MongoDB', 'Leadership'\""
      ]
    },
    {
      "cell_type": "code",
      "execution_count": 232,
      "metadata": {
        "colab": {
          "base_uri": "https://localhost:8080/"
        },
        "id": "0GVHyJ1MvoXS",
        "outputId": "32fa1ea3-a5bb-41ec-e2fb-5722802b5a19"
      },
      "outputs": [
        {
          "data": {
            "text/plain": [
              "TfidfVectorizer()"
            ]
          },
          "execution_count": 232,
          "metadata": {},
          "output_type": "execute_result"
        }
      ],
      "source": [
        "# tokenize and build vocab\n",
        "vectorizer.fit(Resumes)"
      ]
    },
    {
      "cell_type": "code",
      "execution_count": null,
      "metadata": {},
      "outputs": [],
      "source": [
        "vectorizer."
      ]
    },
    {
      "cell_type": "code",
      "execution_count": 233,
      "metadata": {
        "colab": {
          "base_uri": "https://localhost:8080/"
        },
        "id": "gAa84GrkvoXT",
        "outputId": "22d30676-70e5-4758-c463-4c73c9a50ef5"
      },
      "outputs": [
        {
          "name": "stdout",
          "output_type": "stream",
          "text": [
            "{'leadership': 650, 'python': 943, 'axure': 123, 'boot': 145, 'java': 602, 'prelude': 886, 'erp': 407, 'spring': 1097, 'camunda': 164, 'bpm': 150, 'css3': 266, 'mongodb': 739, 'asp': 90, 'net': 764, 'rp': 1003, 'staruml': 1105, 'jquery': 615, 'javascript': 604, 'jee': 607, 'mvc': 749, 'linux': 660, 'html': 529, 'sql': 1100, 'compétences': 221, 'mathématiques': 702, 'langage': 641, 'style': 1124, 'analytiques': 57, 'css': 265, 'de': 291, 'programmation': 915, 'en': 391, 'anglais': 62, 'feuilles': 434, 'cascade': 174, 'communication': 209, 'packet': 833, 'microsoft': 720, 'office': 796, 'edition': 366, 'matlab': 703, 'enterprise': 401, 'angularjs': 65, 'oracle': 813, 'kotlin': 634, 'database': 285, 'studio': 1123, 'uml': 1221, 'nosql': 778, 'ensp': 400, 'tracer': 1195, 'android': 59, 'arduino': 82, 'ubuntu': 1217, 'mysql': 750, 'firebase': 446, 'systèmes': 1141, 'raspberry': 958, 'pi': 859, 'lorawan': 673, 'microelectronics': 718, 'réel': 1010, 'embedded': 385, 'spectre': 1090, 'rtos': 1005, 'virtuoso': 1255, 'administration': 27, 'système': 1140, 'x92exploitation': 1291, 'cadence': 163, 'temps': 1168, 'eagle': 362, 'pcb': 846, 'git': 484, 'programming': 918, 'microcontrôleurs': 717, 'language': 643, 'lora': 672, 'embarqués': 383, 'informatique': 556, 'django': 328, 'gitlab': 486, 'apache': 68, 'kafka': 625, 'fonctionnels': 457, 'objets': 791, 'rest': 991, 'golang': 490, 'unitaire': 1228, 'parallèle': 838, 'tests': 1176, 'web': 1269, 'stm32': 1110, 'test': 1171, 'vhdl': 1250, 'objet': 790, 'internet': 577, 'des': 300, 'poo': 875, 'postgresql': 879, 'orientée': 826, 'openmp': 802, 'méthodes': 756, 'nodejs': 776, 'blockchain': 141, 'agiles': 34, 'api': 69, 'javafx': 603, 'amazon': 44, 'angular': 63, 'hyperledger': 536, 'docker': 332, 'json': 618, 'services': 1049, 'go': 489, 'thinking': 1179, 'artificial': 88, 'critical': 257, 'darknet': 281, 'ai': 36, 'deep': 296, 'machine': 678, 'learning': 654, 'big': 137, 'data': 284, 'science': 1031, 'creativity': 255, 'skills': 1066, 'neural': 769, 'analysis': 52, 'networks': 768, 'engineering': 397, 'intelligence': 566, 'nlp': 774, 'french': 469, 'natural': 760, 'processing': 903, 'vision': 1257, 'tensorflow': 1170, 'english': 398, 'mining': 722, 'arabic': 79, 'computer': 218, 'ingénierie': 559, 'security': 1040, 'framework': 465, 'développement': 361, 'batch': 133, 'hibernate': 519, 'maven': 704, 'elasticsearch': 374, 'svn': 1132, 'scrum': 1036, 'typescript': 1209, 'agile': 33, 'optimisation': 807, 'methodologies': 714, 'keras': 629, 'object': 787, 'oriented': 825, 'subversion': 1125, 'jenkins': 608, 'products': 909, 'html5': 530, 'presse': 887, 'stocks': 1111, 'gestion': 482, 'proteus': 926, 'du': 349, 'sponsoring': 1095, 'programmes': 917, 'projet': 921, 'photoshop': 856, 'opérations': 812, 'developement': 309, 'client': 197, 'software': 1076, 'évènement': 1324, 'la': 637, 'relation': 977, 'crm': 259, 'compte': 217, 'changement': 187, 'ingénieurs': 560, 'guitare': 506, 'x92équipe': 1298, 'iot': 590, 'logistique': 669, 'pl': 862, 'thymeleaf': 1180, 'bootstrap': 146, 'sgbd': 1052, 'twitter': 1208, 'pour': 881, 'designer': 306, 'tortoise': 1193, 'management': 683, 'altium': 43, 'labview': 639, 'excel': 417, 'français': 467, 'arabe': 78, 'angular6': 64, 'project': 919, 'telecommunications': 1167, 'development': 311, 'ams': 48, 'simulink': 1061, 'gate': 473, 'systems': 1139, 'beaglebone': 134, 'isis': 595, 'psim': 933, 'cis': 194, 'capture': 172, 'xilinx': 1305, 'ise': 593, 'orcad': 814, 'fpga': 464, 'signal': 1058, 'pspice': 934, 'field': 438, 'programmable': 913, 'arrays': 87, 'conception': 224, 'robotique': 1001, 'autocad': 105, 'powerpoint': 883, 'word': 1279, 'produits': 911, 'mécaniques': 752, 'solidworks': 1081, 'monetique': 738, 'génie': 508, 'électrique': 1314, '8583': 12, 'xml': 1307, 'jira': 612, 'iso': 596, 'sur': 1131, '20022': 3, 'logiciel': 665, 'embarqué': 382, 'validation': 1241, 'audit': 102, 'sécurité': 1143, 'visual': 1258, 'p2pe': 832, 'emv': 390, 'board': 143, 'flask': 449, 'easyeda': 364, 'robotics': 1000, 'assembly': 95, 'http': 531, 'transfer': 1198, 'circuit': 192, 'qt': 947, 'creator': 256, 'printed': 893, 'design': 305, 'hypertext': 537, 'protocol': 927, 'kanban': 627, 'teamwork': 1159, 'windows': 1276, 'mqtt': 744, 'trello': 1203, 'application': 72, 'testing': 1172, 'mobile': 726, 'graphic': 498, 'google': 491, 'developer': 310, 'sqlite': 1101, 'interface': 572, 'junior': 621, 'sdk': 1038, 'material': 701, 'logo': 670, 'bases': 130, 'données': 337, 'bureautique': 159, 'contenu': 236, 'cms': 201, 'base': 129, 'phpmyadmin': 858, 'oop': 798, 'openerp': 801, 'swing': 1134, 'unifié': 1226, 'outils': 827, 'espagnol': 409, 'modèle': 735, 'modélisation': 736, 'php': 857, 'algorithmes': 38, 'recherche': 964, 'présentations': 931, 'unified': 1225, 'modeling': 732, 'fastapi': 431, 'opencv': 800, 'eclipse': 365, 'monétique': 741, 'node': 775, 'js': 616, 'sequelize': 1046, 'react': 961, 'wxwidgets': 1285, 'odoo': 794, 'graphique': 499, 'pytorch': 945, 'utilisateur': 1236, 'artificielle': 89, 'unix': 1232, 'redis': 973, 'languages': 644, 'hardware': 515, 'description': 303, 'arm': 86, 'tcl': 1154, 'payment': 844, 'processors': 904, 'team': 1158, 'ahb': 35, 'amba': 45, 'ddr': 290, 'ocp': 793, 'perl': 854, 'jhipster': 611, 'testlink': 1173, 'ingedev': 558, 'sélénium': 1145, 'struts2': 1121, 'j2ee': 599, 'sharepoint': 1053, 'jsp': 619, 'openwrt': 803, 'yocto': 1311, 'électronique': 1316, 'protocole': 928, 'ip': 591, 'buildroot': 158, 'spark': 1087, 'talend': 1150, 'open': 799, 'scala': 1029, 'vue': 1265, 'computing': 219, 'cloud': 198, 'décisionnelle': 354, 'laravel': 645, 'script': 1034, 'confluence': 229, 'groovy': 502, 'powershell': 884, 'shell': 1055, 'power': 882, 'bi': 136, 'ibm': 542, 'active': 22, 'lotus': 674, 'notes': 780, 'express': 422, 'front': 470, 'end': 393, 'back': 128, 'it': 597, 'technician': 1161, 'adobe': 29, 'illustrator': 544, 'sap': 1025, 'ipbx': 592, 'maintenance': 680, 'support': 1130, 'user': 1234, 'directory': 323, 'xd': 1304, 'symfony': 1135, 'real': 963, 'time': 1182, 'advanced': 30, 'control': 243, 'driver': 342, 'assistance': 97, 'adas': 26, 'device': 314, 'devices': 315, 'cortex': 251, 'drivers': 343, 'compilers': 213, 'gdb': 476, 'of': 795, 'things': 1178, 'paradigm': 837, 'freertos': 468, 'iar': 539, 'workbench': 1281, 'set': 1051, 'operating': 804, 'top': 1192, 'box': 149, 'automatic': 107, 'cross': 260, 'perforce': 851, 'valgrind': 1240, 'reactive': 962, 'architecture': 81, 'driven': 341, 'méthode': 755, 'debugger': 293, 'hdfs': 516, 'slam': 1067, 'spi': 1092, 'rpc': 1004, 'rmi': 998, 'gnu': 488, 'sketchup': 1065, 'dash': 283, 'hls': 522, 'télévision': 1213, 'can': 165, 'awk': 122, 'mavlink': 705, 'gazebo': 475, 'tv': 1207, 'ros': 1002, 'x86': 1286, 'mips': 723, 'latex': 646, 'sed': 1041, 'unity': 1230, 'ardupilot': 83, 'assembleur': 94, 'uart': 1216, 'technical': 1160, 'documentation': 334, 'tcp': 1156, 'requirement': 985, 'functional': 472, 'specifications': 1089, 'usb': 1233, 'jersey': 609, 'gsm': 504, 'cxf': 273, 'dependency': 299, 'lucene': 676, 'ui': 1220, 'activemq': 23, 'lte': 675, 'network': 766, 'requirements': 986, 'system': 1137, 'injection': 561, 'networking': 767, 'servlets': 1050, 'soap': 1070, 'gprs': 493, 'struts': 1120, 'patterns': 843, 'jpa': 614, 'ejb': 372, 'umts': 1222, 'certified': 183, 'sun': 1128, 'programmer': 916, 'ajax': 37, 'analyse': 50, 'frameworks': 466, 'architect': 80, 'scène': 1037, 'server': 1047, 'builder': 156, 'mean': 708, 'travail': 1201, 'ia': 538, 'stack': 1102, 'full': 471, 'analyses': 51, 'unity3d': 1231, 'virtualisation': 1253, 'common': 208, 'lisp': 661, 'and': 58, 'dynamics': 352, 'prolog': 923, 'core': 249, 'notation': 779, 'business': 161, 'process': 901, 'model': 731, 'schéma': 1030, 'idea': 543, 'hadoop': 512, 'applications': 73, 'xampp': 1302, 'intellij': 567, 'xamarin': 1301, 'redmine': 974, 'sts': 1122, 'neurolinguistique': 770, 'pnl': 870, 'elastic': 373, 'elk': 380, 'maple': 694, 'toad': 1185, 'maitrise': 681, 'qualite': 949, 'commerciaux': 207, '9001': 15, 'six': 1064, 'sigma': 1057, 'qualité': 951, 'amélioration': 49, 'continue': 238, 'processus': 905, 'commercial': 205, 'cycles': 276, 'vie': 1252, 'statitical': 1107, 'systeme': 1138, 'planification': 866, 'analyste': 53, 'consulting': 234, 'projets': 922, 'ios': 589, 'objective': 788, 'native': 759, 'do': 330, '178': 2, 'scripting': 1035, 'vagrant': 1239, 'integration': 565, 'continuous': 239, 'compétition': 222, 'embauche': 384, 'financière': 443, 'points': 872, 'comptabilité': 215, 'analytique': 56, 'leurs': 657, '2015': 4, 'formation': 461, 'dangers': 278, 'et': 412, 'critiques': 258, 'leur': 656, 'maîtrise': 706, 'haccp': 511, 'amde': 46, 'performance': 852, 'exigences': 420, 'entreprise': 403, 'marketing': 696, 'digital': 320, 'entretiens': 405, 'entretien': 404, 'auditeur': 103, 'certifié': 184, 'loi': 671, 'finance': 440, '2021': 5, 'ressources': 990, 'humaines': 534, 'stratégique': 1116, 'quotidienne': 954, 'rh': 994, '360': 8, 'x92une': 1297, 'départ': 358, 'aux': 116, 'modes': 734, 'défaillance': 355, 'effets': 369, 'préparation': 930, 'évaluation': 1323, 'parler': 840, 'public': 938, 'équipe': 1321, 'pic': 860, 'mangodb': 687, 'wcomp': 1268, 'for': 459, 'mplap': 743, 'soapui': 1071, 'iarworkbench': 540, 'entrepreneuriat': 402, 'conversation': 248, 'manager': 684, 'soa': 1069, 'bluemix': 142, 'mikroc': 721, 'pro': 898, 'couch': 253, 'db': 288, 'reports': 983, 'jasper': 600, 'ionic': 588, 'microchip': 715, 'dsp': 346, 'automatique': 109, 'apprentissage': 76, 'github': 485, 'automatisation': 110, 'configuration': 227, 'risques': 997, 'vérification': 1267, 'automobile': 111, 'knowledge': 632, 'spice': 1093, 'to': 1184, 'btob': 152, 'sales': 1022, 'intégration': 584, 'nexus': 773, 'sonar': 1083, 'suite': 1127, 'protocoles': 929, 'devops': 316, 'connectivity': 232, 'jdbc': 606, 'creative': 254, 'adaptatif': 25, 'site': 1063, 'x92opération': 1295, 'service': 1048, 'x92applications': 1288, 'plsql': 868, 'apis': 70, 'ee': 367, 'jsf': 617, 'principles': 892, 'esprit': 410, 'solid': 1078, 'aspect': 91, 'javaserver': 605, 'faces': 428, 'rabbitmq': 956, 'aop': 67, 'jwt': 624, 'restful': 992, 'webservices': 1272, 'access': 17, 'dao': 280, 'state': 1106, 'token': 1188, 'tomcat': 1189, 'representational': 984, 'mockito': 729, 'operations': 806, 'delivery': 298, 'automation': 108, 'contrôle': 246, 'new': 772, 'veille': 1247, 'planning': 867, 'montage': 740, 'introduction': 583, 'bourse': 148, 'strategic': 1113, 'financier': 442, '9000': 14, 'cmmi': 200, 'outsourcing': 830, 'electronics': 377, 'dev': 308, 'commerciale': 206, 'langages': 642, 'stratégie': 1115, 'kubernetes': 636, 'solide': 1079, 'cao': 170, 'step7': 1109, 'wincc': 1275, 'jsx': 620, 'siemens': 1056, 'vivado': 1260, 'works': 1283, 'tia': 1181, 'portal': 876, 'xrelais': 1310, 'xlinix': 1306, 'cascading': 175, 'jeux': 610, 'sheets': 1054, 'neo4j': 763, 'cassandra': 176, 'bugzilla': 155, 'tls': 1183, 'vb': 1243, 'image': 545, 'traitement': 1197, 'norme': 777, 'pci': 847, 'dss': 347, 'basic': 132, 'pascal': 841, 'autosar': 115, 'verilog': 1249, '264': 7, 'vba': 1244, 'step': 1108, 'modelsim': 733, 'keil': 628, 'uvision': 1237, 'house': 525, 'smart': 1068, 'cubemx': 267, 'visualisation': 1259, 'redux': 975, 'objects': 789, 'spss': 1098, 'nuance': 783, 'renewable': 981, 'energy': 394, 'efficiency': 371, 'solar': 1077, 'marklogic': 697, 'communications': 210, 'bash': 131, 'docusign': 335, 'content': 235, 'selenium': 1042, 'vantiq': 1242, 'sas': 1026, 'cucumber': 268, 'solidity': 1080, 'web3': 1270, 'ethereum': 413, 'besu': 135, 'tools': 1191, 'merise': 712, 'structures': 1119, 'flutter': 454, 'dart': 282, 'algorithms': 39, 'opérationnelle': 811, 'intégrés': 587, 'circuits': 193, 'eaglesoft': 363, 'vidéo': 1251, 'vente': 1248, 'qweb': 955, 'multimédia': 748, 'canoe': 168, 'area': 84, '26262': 6, 'automotive': 112, 'diagnostics': 318, 'unit': 1227, 'dtc': 348, 'misra': 725, 'microcontrollers': 716, 'lin': 659, 'aspice': 92, 'swat': 1133, 'controller': 244, 'safety': 1020, 'interconnect': 568, 'aurix': 104, 'sponsorship': 1096, 'local': 664, 'uds': 1218, 'cdd': 179, 'tresos': 1204, 'german': 481, 'sociaux': 1073, 'communiqué': 211, 'optimization': 808, 'media': 710, 'rédaction': 1009, 'média': 754, 'analytics': 55, 'email': 381, 'réseaux': 1017, 'b2b': 127, 'numérique': 784, 'x92entreprise': 1290, 'social': 1072, 'seo': 1044, 'contenus': 237, 'relations': 979, 'engine': 396, 'search': 1039, 'pression': 888, 'employeur': 388, 'comportement': 214, 'sous': 1086, 'sphinix': 1091, 'interculturelle': 571, 'marque': 698, 'organisationnel': 819, 'interculturel': 570, 'recrutement': 972, 'travailler': 1202, 'efficacement': 370, 'droit': 344, 'aquisition': 77, 'talents': 1152, 'systéme': 1142, 'information': 555, 'resources': 988, 'sirh': 1062, 'fonctionnement': 458, 'pratiques': 885, 'techniques': 1163, 'psycho': 935, 'sociologie': 1074, 'santé': 1024, 'dans': 279, 'émotionnelle': 1319, 'le': 648, 'ergonomie': 406, 'organisations': 820, 'tavail': 1153, 'par': 836, 'ordinateur': 816, 'négociations': 786, 'sourcing': 1085, 'standard': 1103, 'performances': 853, 'acquisition': 21, 'employee': 386, 'change': 186, 'technique': 1162, 'negotiation': 762, 'human': 535, 'les': 655, 'avec': 120, 'encryption': 392, 'personnel': 855, 'employés': 389, 'training': 1196, 'sélection': 1144, 'recruiting': 969, 'interviews': 581, 'logiciels': 667, 'technologique': 1165, 'labor': 638, 'law': 647, 'générale': 509, 'recruitment': 970, 'star': 1104, 'talent': 1151, 'assurance': 100, 'innovantion': 562, 'hr': 527, 'onboarding': 797, 'dvb': 350, 'kernel': 630, 'debugging': 294, 'quality': 950, 'clearcase': 196, 'firmware': 447, 'obtention': 792, 'production': 908, 'do178': 331, 'operationnelle': 805, 'budgétaires': 154, 'résultats': 1019, 'aérospatial': 125, 'prévisions': 932, 'interpersonnelle': 579, 'avionique': 121, 'multifonctionnelle': 747, 'direction': 322, 'convention': 247, 'ciel': 191, 'policies': 873, 'sens': 1043, 'x92organisation': 1296, 'coaching': 202, 'contrat': 241, 'tableaux': 1148, 'bord': 147, 'x92indicateurs': 1292, 'clés': 199, 'candidats': 167, 'fidélisation': 437, 'interne': 575, 'être': 1325, 'macro': 679, 'uf046': 1219, 'xprosystem': 1308, 'confidentialité': 226, 'appliquer': 74, 'avancé': 117, 'savoir': 1027, 'respecter': 989, 'notions': 781, 'comptables': 216, 'réglementation': 1012, 'gestred': 483, 'dbase3': 289, 'code': 203, 'prj': 897, 'organizational': 823, 'booléenne': 144, 'pyra': 942, 'tableau': 1147, 'rigoureux': 996, 'kpi': 635, 'écoute': 1312, 'méthodique': 757, 'affaires': 32, 'organisionel': 821, 'psychologie': 936, 'dévellopment': 360, 'chasseur': 189, 'tête': 1214, 'humain': 532, 'incident': 548, 'problem': 899, 'vmware': 1261, 'esx': 411, 'visio': 1256, 'cvs': 272, 'ms': 745, 'itil': 598, 'v3': 1238, 'foundations': 463, 'cortexm': 252, 'dreamweaver': 340, 'writing': 1284, 'research': 987, 'gdpr': 477, 'community': 212, 'translation': 1200, 'teaching': 1157, 'relationships': 980, 'general': 479, 'protection': 925, 'regulation': 976, 'intercultural': 569, 'knwoledge': 633, 'strategy': 1114, 'speaking': 1088, 'interpersonal': 578, 'interviewing': 580, 'psychometrics': 937, 'canva': 169, 'enseignement': 399, 'dynamic': 351, 'host': 524, 'dhcp': 317, 'procédures': 907, 'stockées': 1112, 'commerce': 204, 'delf': 297, 'b2': 126, 'fil': 439, 'sans': 1023, 'anfsf': 61, 'radio': 957, 'source': 1084, 'réseau': 1016, 'wireless': 1277, 'télécommunications': 1211, 'handover': 514, 'seperation': 1045, 'dépannage': 357, 'heterogeneous': 518, 'opérateur': 810, 'handoff': 513, 'telec': 1166, 'blind': 140, 'technologies': 1164, 'wi': 1274, 'fi': 435, 'interworking': 582, 'toefl': 1186, 'mobiles': 727, 'professionnel': 912, '3g': 9, 'andsf': 60, 'toeic': 1187, '4g': 10, 'mise': 724, 'place': 863, 'procédure': 906, 'carrière': 173, 'nouvelles': 782, 'privacy': 895, 'orientation': 824, 'recrues': 966, 'têtes': 1215, 'symfony3': 1136, '8i': 13, '9i': 16, '10g': 0, '11g': 1, 'sping': 1094, 'jaspersoftetl': 601, 'richfaces': 995, 'mantis': 689, 'taches': 1149, 'rationnelle': 960, 'répétitives': 1015, 'allaise': 40, 'logique': 668, 'electronic': 376, 'vector': 1245, 'canalyzer': 166, 'bus': 160, 'designing': 307, 'doors': 338, 'imbus': 546, 'rational': 959, 'ibb': 541, 'électroniques': 1317, 'paiements': 834, 'télécom': 1210, 'industrial': 553, 'solving': 1082, 'mécanique': 751, 'ansys': 66, 'mastercam': 700, 'grafcet': 497, 'gemma': 478, 'catia': 177, 'gmao': 487, 'sociétés': 1075, 'international': 574, 'pétrole': 946, 'gaz': 474, 'contrats': 242, 'fiscal': 448, 'concurrence': 225, 'wireshark': 1278, 'scade': 1028, 'tcml': 1155, 'decalib': 295, 'trace32': 1194, 'pvcs': 940, 'account': 19, 'capital': 171, 'developpement': 312, 'paies': 835, 'budgets': 153, 'rémunération': 1014, 'avantages': 119, 'pointage': 871, 'robot': 999, 'azure': 124, 'vpn': 1264, 'privé': 896, 'appium': 71, 'informatiques': 557, 'xcode': 1303, 'virtuel': 1254, 'voix': 1263, 'voip': 1262, 'livraison': 662, 'pycharm': 941, 'docteur': 333, 'comsol': 223, 'work': 1280, 'esp32': 408, 'group': 503, 'assembler': 93, 'portes': 877, 'programmables': 914, 'domotique': 336, 'lunix': 677, 'flex': 450, 'toolkit': 1190, 'gwt': 507, 'labwindows': 640, 'cvi': 271, 'formations': 462, 'conseil': 233, 'connaissances': 231, 'innovation': 563, 'alliances': 41, 'stratégiques': 1117, 'bizagi': 138, 'manufacturing': 693, 'résolution': 1018, 'problèmes': 900, 'lean': 652, 'black': 139, 'assura': 99, 'intégré': 585, 'orcade': 815, 'debian': 292, 'centos': 182, 'genus': 480, 'innovus': 564, 'incisive': 549, 'fedora': 433, 'assistée': 98, 'cad': 162, 'questasim': 953, 'webdriver': 1271, 'postman': 880, 'testng': 1174, 'testrail': 1175, 'x92api': 1287, 'manuels': 691, 'xraiy': 1309, 'x92automatisation': 1289, 'junit': 622, 'cypress': 277, 'navigation': 761, 'régression': 1013, 'diplômés': 321, 'payroll': 845, 'internal': 573, 'financial': 441, 'reporting': 982, 'accounting': 20, 'managériale': 686, 'controls': 245, 'forecasting': 460, 'corporate': 250, 'managerial': 685, 'exploration': 421, 'simulations': 1060, 'indicateurs': 552, 'leader': 649, 'humaine': 533, 'facturation': 429, 'salariés': 1021, 'datawarehouse': 287, 'turbo': 1206, 'python3': 944, 'dita': 326, 'éléments': 1318, 'oxygen': 831, 'finis': 444, 'netbeans': 765, 'accidents': 18, 'successions': 1126, 'différés': 319, 'indemnisation': 551, 'revenus': 993, 'mobilité': 728, 'x92information': 1293, 'cspn': 264, 'grade': 494, 'tenserflow': 1169, 'kiras': 631, 'méthodologie': 758, 'ci': 190, 'cd': 178, 'politiques': 874, 'grh': 500, 'hil': 520, 'vehicules': 1246, 'exécution': 426, 'autonomes': 113, 'mesure': 713, 'sûreté': 1146, 'véhicules': 1266, 'électriques': 1315, 'unitaires': 1229, 'réalisation': 1008, 'cybersécurité': 274, 'spécification': 1099, 'atmosphériques': 101, 'teststand': 1177, 'ares': 85, 'learnig': 653, 'multidimensional': 746, 'extract': 425, 'transform': 1199, 'load': 663, 'etl': 414, 'manipulation': 688, 'expressions': 423, 'mdx': 707, 'alm': 42, 'manuel': 690, 'execution': 418, 'hp': 526, 'qtp': 948, 'customer': 269, 'cv': 270, 'prezi': 889, 'event': 416, 'outreach': 829, 'produit': 910, 'flowable': 452, 'microservices': 719, 'drools': 345, 'h2o': 510, 'intégrée': 586, 'automate': 106, 'industriel': 554, 'manufacture': 692, 'logicielle': 666, 'mécatronique': 753, 'cisco': 195, 'quartus': 952, 'meetings': 711, 'leading': 651, 'sim': 1059, 'ets5': 415, 'ordonnancement': 817, 'manageme': 682, 'énergie': 1320, 'pneumatique': 869, 'mecanique': 709, 'fluide': 453, 'electonique': 375, 'building': 157, 'hiring': 521, 'workforce': 1282, 'screening': 1033, 'appraisal': 75, 'job': 613, 'descriptions': 304, 'executive': 419, 'graduate': 495, 'recruitement': 967, 'descriptif': 302, 'contract': 240, 'advertising': 31, 'employer': 387, 'branding': 151, 'poste': 878, 'publicité': 939, 'règlement': 1007, 'recruitments': 971, 'organization': 822, 'recruiters': 968, 'dirigeants': 324, 'headhunters': 517, 'outlook': 828, 'devexpress': 313, 'grafana': 496, 'hris': 528, 'peoplesoft': 849, 'grid': 501, 'neurones': 771, 'processeurs': 902, 'usinage': 1235, 'chain': 185, 'hoshin': 523, 'supply': 1129, 'pdca': 848, 'cycle': 275, 'why': 1273, 'ishikawa': 594, 'improvement': 547, 'finite': 445, 'element': 378, 'fea': 432, 'dmaic': 329, '5s': 11, 'kaizen': 626, 'pareto': 839, 'amdec': 47, 'recouvrement': 965, 'créances': 262, 'trésorerie': 1205, 'opéra': 809, 'x92évènements': 1299, 'chasse': 188, 'mondial': 737, 'crédit': 263, 'facebook': 427, 'fmeca': 456, 'desalination': 301, 'analytical': 54, 'effects': 368, 'fmea': 455, 'projects': 920, 'mode': 730, 'jupyter': 623, 'failure': 430, 'primavera': 890, 'pep': 850, 'pitch': 861, 'cdi': 180, 'administratives': 28, 'dossiers': 339, 'prospection': 924, 'elevator': 379, 'régie': 1011, 'placement': 864, 'internes': 576, 'organisation': 818, 'conflits': 228, 'stress': 1118, 'établir': 1322, 'dynamisme': 353, 'négociation': 785, 'adaptabilité': 24, 'scraping': 1032, 'databases': 286, 'rust': 1006, 'mplab': 742, 'master': 699, 'inclusion': 550, 'engagement': 395, 'center': 181, 'assessment': 96, 'diversity': 327, 'lightroom': 658, 'mapping': 695, 'relationnel': 978, 'x92optimisation': 1294, 'dépendances': 359, 'crud': 261, 'avancées': 118, 'plan': 865, 'expériences': 424, 'discrète': 325, 'autonomie': 114, 'primefaces': 891, 'priorités': 894, 'flexibilité': 451, 'téléphoniques': 1212, 'guide': 505, 'un': 1223, 'fiches': 436, 'compétence': 220, 'connaissance': 230, 'une': 1224, 'démarche': 356, 'x9cuvre': 1300, 'passation': 842, 'gpec': 492, 'élaboration': 1313}\n"
          ]
        }
      ],
      "source": [
        "print(vectorizer.vocabulary_)"
      ]
    },
    {
      "cell_type": "code",
      "execution_count": 234,
      "metadata": {
        "colab": {
          "base_uri": "https://localhost:8080/"
        },
        "id": "0DPnHluovoXT",
        "outputId": "bc03aedf-0f7c-4cae-c6d4-df59c9fd3b3d"
      },
      "outputs": [
        {
          "name": "stdout",
          "output_type": "stream",
          "text": [
            "[5.82028157 5.82028157 5.41481646 ... 5.12713439 4.72166928 5.82028157]\n"
          ]
        }
      ],
      "source": [
        "#Focus on IDF VALUES\n",
        "print(vectorizer.idf_)"
      ]
    },
    {
      "cell_type": "code",
      "execution_count": 247,
      "metadata": {
        "id": "zkMyjCnsvoXU"
      },
      "outputs": [
        {
          "name": "stdout",
          "output_type": "stream",
          "text": [
            "job offer requirements:\n",
            " 'Java', 'JEE', 'SQL', 'Python', 'machine learning', 'c', 'Spring Boot', 'MongoDB', 'Leadership'\n",
            "------\n",
            "job vector:\n",
            "  (0, 1100)\t0.22563135612647656\n",
            "  (0, 1097)\t0.2982309475075049\n",
            "  (0, 943)\t0.19105907037352626\n",
            "  (0, 739)\t0.3614408394121437\n",
            "  (0, 678)\t0.3722665583213125\n",
            "  (0, 654)\t0.34270742763440076\n",
            "  (0, 650)\t0.2574995569524408\n",
            "  (0, 607)\t0.44348694380039044\n",
            "  (0, 602)\t0.18816453257099058\n",
            "  (0, 145)\t0.3722665583213125\n"
          ]
        }
      ],
      "source": [
        "# encode document\n",
        "print('job offer requirements:\\n', job_offer_description)\n",
        "job_offer = vectorizer.transform([job_offer_description])\n",
        "print('------\\njob vector:')\n",
        "print(job_offer)"
      ]
    },
    {
      "cell_type": "code",
      "execution_count": 236,
      "metadata": {
        "id": "gg-R-v-m0JGk"
      },
      "outputs": [
        {
          "name": "stdout",
          "output_type": "stream",
          "text": [
            "  (0, 1105)\t0.17344190606753623\n",
            "  (0, 1100)\t0.06543809343950109\n",
            "  (0, 1097)\t0.17298716760455618\n",
            "  (0, 1003)\t0.34688381213507247\n",
            "  (0, 943)\t0.055411364422943005\n",
            "  (0, 886)\t0.34688381213507247\n",
            "  (0, 764)\t0.19878549734355294\n",
            "  (0, 749)\t0.21933769591248117\n",
            "  (0, 739)\t0.10482585323400512\n",
            "  (0, 660)\t0.06277904374578877\n",
            "  (0, 650)\t0.07468057790265026\n",
            "  (0, 615)\t0.122641140649224\n",
            "  (0, 607)\t0.1286210417108036\n",
            "  (0, 604)\t0.06879935101439377\n",
            "  (0, 602)\t0.054571884315043805\n",
            "  (0, 529)\t0.08066047896422983\n",
            "  (0, 407)\t0.24009647751746765\n",
            "  (0, 266)\t0.14613683340791989\n",
            "  (0, 164)\t0.34688381213507247\n",
            "  (0, 150)\t0.34688381213507247\n",
            "  (0, 145)\t0.2159311032476924\n",
            "  (0, 123)\t0.34688381213507247\n",
            "  (0, 90)\t0.22679731237214973\n",
            "  (1, 1124)\t0.2615719722152949\n",
            "  (1, 943)\t0.14398882253698528\n",
            "  :\t:\n",
            "  (246, 1073)\t0.14706841455413566\n",
            "  (246, 1017)\t0.15047431979713818\n",
            "  (246, 972)\t0.11242692665562376\n",
            "  (246, 938)\t0.14706841455413566\n",
            "  (246, 878)\t0.19349823702302996\n",
            "  (246, 842)\t0.20798751550718944\n",
            "  (246, 840)\t0.1584483451627768\n",
            "  (246, 796)\t0.08704647263054016\n",
            "  (246, 724)\t0.19349823702302996\n",
            "  (246, 720)\t0.1447117398171395\n",
            "  (246, 650)\t0.0447776094220422\n",
            "  (246, 637)\t0.11918948150641102\n",
            "  (246, 505)\t0.20798751550718944\n",
            "  (246, 492)\t0.20798751550718944\n",
            "  (246, 482)\t0.07528317481427714\n",
            "  (246, 436)\t0.3119812732607842\n",
            "  (246, 417)\t0.09835077367086094\n",
            "  (246, 404)\t0.17524390496934447\n",
            "  (246, 391)\t0.20187029890545108\n",
            "  (246, 356)\t0.20798751550718944\n",
            "  (246, 300)\t0.1831191471237444\n",
            "  (246, 291)\t0.11336379739703455\n",
            "  (246, 230)\t0.20798751550718944\n",
            "  (246, 224)\t0.19726851254222555\n",
            "  (246, 220)\t0.20798751550718944\n"
          ]
        }
      ],
      "source": [
        "matrix = vectorizer.transform(Resumes)\n",
        "print(matrix)"
      ]
    },
    {
      "cell_type": "code",
      "execution_count": 237,
      "metadata": {},
      "outputs": [
        {
          "name": "stdout",
          "output_type": "stream",
          "text": [
            "  (0, 145)\t0.6233641404956164\n",
            "  (0, 602)\t0.15754171237782083\n",
            "  (0, 607)\t0.37131170039794975\n",
            "  (0, 650)\t0.2155928143552381\n",
            "  (0, 739)\t0.3026181820040025\n",
            "  (0, 943)\t0.15996517888196535\n",
            "  (0, 1097)\t0.49939075672155486\n",
            "  (0, 1100)\t0.18891100105108347\n",
            "  (1, 943)\t1.0\n",
            "  (2, 602)\t0.7863488885704366\n",
            "  (2, 943)\t0.39922265260813994\n",
            "  (2, 1100)\t0.47146229869265205\n",
            "  (4, 145)\t0.75132353009791\n",
            "  (4, 602)\t0.1898806617064401\n",
            "  (4, 943)\t0.19280159874898517\n",
            "  (4, 1097)\t0.6019018449473091\n",
            "  (5, 602)\t0.4417687459825274\n",
            "  (5, 943)\t0.8971289623421067\n",
            "  (6, 602)\t0.14503081925382175\n",
            "  (6, 654)\t0.7924416729614282\n",
            "  (6, 678)\t0.5738607929607692\n",
            "  (6, 943)\t0.14726183050300354\n",
            "  (7, 602)\t0.15389360184609385\n",
            "  (7, 943)\t0.15626094941168164\n",
            "  (7, 1097)\t0.9756532555164238\n",
            "  :\t:\n",
            "  (230, 654)\t0.4934548284494141\n",
            "  (230, 678)\t0.8040242895021122\n",
            "  (230, 943)\t0.2751006053345582\n",
            "  (231, 650)\t1.0\n",
            "  (233, 654)\t0.7888173407462049\n",
            "  (233, 678)\t0.5712361680452108\n",
            "  (233, 943)\t0.1465883098962815\n",
            "  (233, 1100)\t0.17311357733251675\n",
            "  (234, 650)\t1.0\n",
            "  (235, 650)\t1.0\n",
            "  (236, 650)\t1.0\n",
            "  (237, 602)\t0.2128017355194494\n",
            "  (237, 654)\t0.7751592117764499\n",
            "  (237, 739)\t0.40876586497772777\n",
            "  (237, 943)\t0.4321505355625901\n",
            "  (238, 1100)\t1.0\n",
            "  (240, 602)\t1.0\n",
            "  (241, 145)\t0.37045452361028147\n",
            "  (241, 602)\t0.09362431397043765\n",
            "  (241, 607)\t0.22066411932595492\n",
            "  (241, 1097)\t0.8903378596476832\n",
            "  (241, 1100)\t0.11226653949564597\n",
            "  (242, 650)\t1.0\n",
            "  (245, 650)\t1.0\n",
            "  (246, 650)\t1.0\n"
          ]
        }
      ],
      "source": [
        "from scipy.sparse import lil_matrix\n",
        "sparseMatrix = lil_matrix((matrix.shape[0], matrix.shape[1]))\n",
        "\n",
        "for i in job_offer.indices:\n",
        "\tsparseMatrix[:,i] = matrix[:,i]\n",
        "\n",
        "matrix = sparseMatrix\n",
        "\n",
        "from sklearn.preprocessing import normalize\n",
        "matrix = normalize(matrix, axis=1)\n",
        "\n",
        "print(matrix)"
      ]
    },
    {
      "cell_type": "code",
      "execution_count": 238,
      "metadata": {},
      "outputs": [],
      "source": [
        "# from sklearn.neighbors import NearestNeighbors\n",
        "# nbrs = NearestNeighbors(n_neighbors=5).fit(matrix)\n",
        "# distances, indices = nbrs.kneighbors(job_offer)\n",
        "# print(distances)\n",
        "# print(indices)"
      ]
    },
    {
      "cell_type": "code",
      "execution_count": 239,
      "metadata": {
        "colab": {
          "base_uri": "https://localhost:8080/"
        },
        "id": "SB0gddICzvPt",
        "outputId": "3006bc78-ce98-4307-af88-dabb79b4b010"
      },
      "outputs": [
        {
          "name": "stdout",
          "output_type": "stream",
          "text": [
            "[[0.81338772 0.19105907 0.33061476 0.         0.53176368 0.25452984\n",
            "  0.54063019 0.34978238 0.43831965 0.54400166 0.44030375 0.5344389\n",
            "  0.55250406 0.37177343 0.35045537 0.26815939 0.         0.56860281\n",
            "  0.         0.29565703 0.35103814 0.         0.53510465 0.84484092\n",
            "  0.19105907 0.27740474 0.39236711 0.26815939 0.25749956 0.\n",
            "  0.53470905 0.5411638  0.38991184 0.32063935 0.29379483 0.53357661\n",
            "  0.18816453 0.         0.62279634 0.         0.19105907 0.\n",
            "  0.29379483 0.         0.26815939 0.34785771 0.53470905 0.18816453\n",
            "  0.42139711 0.35045537 0.25846834 0.28066877 0.53908606 0.34102387\n",
            "  0.29379483 0.         0.         0.27924189 0.19105907 0.29379483\n",
            "  0.35045537 0.32063935 0.27924189 0.         0.41315498 0.48128935\n",
            "  0.         0.26815939 0.25749956 0.33054065 0.41930844 0.35045537\n",
            "  0.25452984 0.19105907 0.50344657 0.47756879 0.72157291 0.50891528\n",
            "  0.50599483 0.22563136 0.19105907 0.54573068 0.29379483 0.47756879\n",
            "  0.43466729 0.6574727  0.35045537 0.18816453 0.         0.40883132\n",
            "  0.52149064 0.48128935 0.         0.19105907 0.39236711 0.35117463\n",
            "  0.29379483 0.37177343 0.         0.25749956 0.         0.\n",
            "  0.         0.36580043 0.         0.         0.25749956 0.\n",
            "  0.18816453 0.2925821  0.         0.25749956 0.18816453 0.18816453\n",
            "  0.25749956 0.25749956 0.         0.29379483 0.19105907 0.58579245\n",
            "  0.         0.33061476 0.         0.39695888 0.         0.30234054\n",
            "  0.         0.         0.36064619 0.60897602 0.41004703 0.19105907\n",
            "  0.25749956 0.47713636 0.29379483 0.25749956 0.28066877 0.53265611\n",
            "  0.25749956 0.33054065 0.26815939 0.30234054 0.40857375 0.18816453\n",
            "  0.         0.31892305 0.54400166 0.25452984 0.25749956 0.\n",
            "  0.         0.         0.         0.19105907 0.         0.29379483\n",
            "  0.         0.25749956 0.39031939 0.84484092 0.55937533 0.39061885\n",
            "  0.19105907 0.25749956 0.48128935 0.51383622 0.33095792 0.25749956\n",
            "  0.         0.50175878 0.19105907 0.35045537 0.         0.\n",
            "  0.         0.19105907 0.         0.29379483 0.         0.55937533\n",
            "  0.25749956 0.39061885 0.39031939 0.         0.25749956 0.\n",
            "  0.19105907 0.48128935 0.51383622 0.33095792 0.25749956 0.\n",
            "  0.19105907 0.         0.35045537 0.25749956 0.38991184 0.50175878\n",
            "  0.         0.19105907 0.19105907 0.48607175 0.         0.\n",
            "  0.25749956 0.18816453 0.25749956 0.25749956 0.19105907 0.25749956\n",
            "  0.42866584 0.4439199  0.         0.51011254 0.25749956 0.\n",
            "  0.61034982 0.25749956 0.18816453 0.25749956 0.         0.25749956\n",
            "  0.         0.19105907 0.         0.18816453 0.32063935 0.\n",
            "  0.18816453 0.19105907 0.56871855 0.25749956 0.         0.55005256\n",
            "  0.25749956 0.25749956 0.25749956 0.53600552 0.22563136 0.\n",
            "  0.18816453 0.54424342 0.25749956 0.         0.         0.25749956\n",
            "  0.25749956]]\n"
          ]
        }
      ],
      "source": [
        "from sklearn.metrics.pairwise import cosine_similarity\n",
        "\n",
        "matches = cosine_similarity(job_offer,matrix)\n",
        "print(matches)"
      ]
    },
    {
      "cell_type": "code",
      "execution_count": 240,
      "metadata": {},
      "outputs": [
        {
          "name": "stdout",
          "output_type": "stream",
          "text": [
            "[159  23   0  76  85]\n"
          ]
        }
      ],
      "source": [
        "#number of candidates\n",
        "n = 5\n",
        "\n",
        "#best candidates indices\n",
        "indices = (-matches[0]).argsort()[:n]\n",
        "\n",
        "print(indices)"
      ]
    },
    {
      "cell_type": "code",
      "execution_count": 241,
      "metadata": {},
      "outputs": [
        {
          "name": "stdout",
          "output_type": "stream",
          "text": [
            "Job offer: 'Java', 'JEE', 'SQL', 'Python', 'machine learning', 'c', 'Spring Boot', 'MongoDB', 'Leadership'\n",
            "\n",
            "results:\n",
            "-----\n",
            "['Artificial', '(AI)', '(UML)', 'Unified', 'Deep', 'XML', 'Java', 'Development', 'Angular', 'Language', 'C', 'PHP', 'Learning', 'Web', 'Studio', 'Web Development', 'JavaScript', 'SQL', 'Modeling', 'Android Studio', 'CSS', 'Python', 'Intelligence', 'Artificial Intelligence (AI)', '(Programming', 'Boot', 'PhpMyAdmin', 'FastAPI', 'Vision', 'Spring', 'TensorFlow', 'Language)', 'Deep Learning', 'OpenCV', 'Android', 'Spring Boot', 'Programming', 'MongoDB', 'Scrum', 'Ubuntu', 'Computer Vision', 'MySQL', 'Unified Modeling Language (UML)', 'Computer', 'JEE', 'C (Programming Language)', 'Linux', 'HTML', 'Eclipse', 'Python (Programming Language)'] \n",
            " score :  84.48\n",
            "------\n",
            "['Leadership', 'Python', 'Axure', 'Boot', 'Java', 'Prelude ERP', 'Spring', 'Camunda BPM', 'CSS3', 'Spring Boot', 'Prelude', 'Camunda', 'MongoDB', 'c', 'ASP.NET', 'BPM', 'RP', 'C++', 'c#', 'StarUML', 'Axure RP', 'jQuery', 'JavaScript', 'JEE', 'ASP.NET MVC', 'Linux', 'HTML', 'ERP', 'SQL', 'MVC'] \n",
            " score :  81.34\n",
            "------\n",
            "['Flask', 'REST', 'Object-Oriented', 'Deep', 'Angular', 'Machine Learning', 'C', 'R (Programming Language)', 'Framework Spring', 'Learning', 'Microsoft', 'Excel', 'Git', 'Framework', 'Python', 'PL/SQL', '(Programming', 'Boot', 'Object-Oriented Programming (OOP)', 'Machine', 'Spring', 'APIs', '(OOP)', 'Django', 'Deep Learning', 'Language)', 'Spring Boot', 'REST APIs', 'Programming', 'Symfony', 'R', 'MySQL', 'C++', 'C (Programming Language)', 'Linux', 'Microsoft Excel'] \n",
            " score :  72.16\n",
            "------\n",
            "['Python', 'PL/SQL', 'Deep', 'Java', 'Machine Learning', 'FastAPI', 'C', 'Machine', 'Deep Learning', 'LaTeX', 'Oracle', 'MongoDB', 'Oracle Database', 'R', 'Learning', 'Neo4j', 'Linux', 'Cassandra', 'SQL', 'PostgreSQL', 'Docker', 'Database'] \n",
            " score :  65.75\n",
            "------\n"
          ]
        }
      ],
      "source": [
        "print('Job offer:',job_offer_description)\n",
        "print( '\\nresults:\\n-----')\n",
        "\n",
        "for i in indices:\n",
        "\tif i != 23 :\n",
        "\t\tprint(Resumes[i],'\\n score : ',\"{:.2f}\".format((matches[0][i])*100))\n",
        "\t\tprint('------')\n"
      ]
    }
  ],
  "metadata": {
    "colab": {
      "collapsed_sections": [],
      "name": "Feature extraction from text.ipynb",
      "provenance": []
    },
    "interpreter": {
      "hash": "ad2bdc8ecc057115af97d19610ffacc2b4e99fae6737bb82f5d7fb13d2f2c186"
    },
    "kernelspec": {
      "display_name": "Python 3.9.7 ('base')",
      "language": "python",
      "name": "python3"
    },
    "language_info": {
      "codemirror_mode": {
        "name": "ipython",
        "version": 3
      },
      "file_extension": ".py",
      "mimetype": "text/x-python",
      "name": "python",
      "nbconvert_exporter": "python",
      "pygments_lexer": "ipython3",
      "version": "3.9.7"
    }
  },
  "nbformat": 4,
  "nbformat_minor": 0
}

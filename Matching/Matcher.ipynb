{
  "cells": [
    {
      "cell_type": "code",
      "execution_count": 1,
      "metadata": {},
      "outputs": [],
      "source": [
        "from ast import literal_eval\n",
        "from sklearn.feature_extraction.text import TfidfVectorizer"
      ]
    },
    {
      "cell_type": "code",
      "execution_count": 2,
      "metadata": {
        "id": "sHoOSBklvoXS"
      },
      "outputs": [],
      "source": [
        "vectorizer = TfidfVectorizer()"
      ]
    },
    {
      "cell_type": "code",
      "execution_count": 3,
      "metadata": {},
      "outputs": [],
      "source": [
        "Resumes = []\n",
        "\n",
        "import csv\n",
        "with open('C:\\\\Users\\\\Ahmed\\\\Desktop\\\\PFE\\\\Linkedin scraping\\\\Data.csv', 'r', encoding=\"ISO-8859-1\") as f:\n",
        "\tereader = csv.DictReader(f)\n",
        "\tfor row in ereader:\n",
        "\t\tskill=literal_eval(row['skills'])\n",
        "\t\tresult=set(skill)\n",
        "\t\tfor x in skill:\n",
        "\t\t\tresult = set(result)|set(x.split())\n",
        "\t\tResumes.append(str(list(result)))"
      ]
    },
    {
      "cell_type": "code",
      "execution_count": 4,
      "metadata": {
        "colab": {
          "base_uri": "https://localhost:8080/",
          "height": 35
        },
        "id": "IXMu5icpvoXU",
        "outputId": "b9d0d829-ed47-4e06-ad1b-d2759be426f9"
      },
      "outputs": [],
      "source": [
        "job_offer_description = \"'Java', 'JEE', 'SQL', 'Python', 'machine learning', 'Raspberry Pi', 'c', 'Spring Boot', 'MongoDB', 'Leadership', 'Raspberry', 'Pi'\""
      ]
    },
    {
      "cell_type": "code",
      "execution_count": 5,
      "metadata": {
        "colab": {
          "base_uri": "https://localhost:8080/"
        },
        "id": "0GVHyJ1MvoXS",
        "outputId": "32fa1ea3-a5bb-41ec-e2fb-5722802b5a19"
      },
      "outputs": [
        {
          "data": {
            "text/plain": [
              "TfidfVectorizer()"
            ]
          },
          "execution_count": 5,
          "metadata": {},
          "output_type": "execute_result"
        }
      ],
      "source": [
        "# tokenize and build vocab\n",
        "vectorizer.fit(Resumes)"
      ]
    },
    {
      "cell_type": "code",
      "execution_count": 6,
      "metadata": {
        "colab": {
          "base_uri": "https://localhost:8080/"
        },
        "id": "gAa84GrkvoXT",
        "outputId": "22d30676-70e5-4758-c463-4c73c9a50ef5"
      },
      "outputs": [],
      "source": [
        "# summarize\n",
        "# print(vectorizer.vocabulary_)"
      ]
    },
    {
      "cell_type": "code",
      "execution_count": 7,
      "metadata": {
        "colab": {
          "base_uri": "https://localhost:8080/"
        },
        "id": "0DPnHluovoXT",
        "outputId": "bc03aedf-0f7c-4cae-c6d4-df59c9fd3b3d"
      },
      "outputs": [
        {
          "name": "stdout",
          "output_type": "stream",
          "text": [
            "[5.82028157 5.82028157 5.41481646 ... 5.12713439 4.72166928 5.82028157]\n"
          ]
        }
      ],
      "source": [
        "#Focus on IDF VALUES\n",
        "print(vectorizer.idf_)"
      ]
    },
    {
      "cell_type": "code",
      "execution_count": 8,
      "metadata": {
        "id": "zkMyjCnsvoXU"
      },
      "outputs": [],
      "source": [
        "# encode document\n",
        "job_offer = vectorizer.transform([job_offer_description])"
      ]
    },
    {
      "cell_type": "code",
      "execution_count": 9,
      "metadata": {
        "id": "gg-R-v-m0JGk"
      },
      "outputs": [],
      "source": [
        "matrix = vectorizer.transform(Resumes)"
      ]
    },
    {
      "cell_type": "code",
      "execution_count": 10,
      "metadata": {},
      "outputs": [
        {
          "name": "stdout",
          "output_type": "stream",
          "text": [
            "  (0, 145)\t0.2159311032476924\n",
            "  (0, 602)\t0.054571884315043805\n",
            "  (0, 607)\t0.1286210417108036\n",
            "  (0, 650)\t0.07468057790265026\n",
            "  (0, 739)\t0.10482585323400512\n",
            "  (0, 943)\t0.055411364422943005\n",
            "  (0, 1097)\t0.17298716760455618\n",
            "  (0, 1100)\t0.06543809343950109\n",
            "  (1, 943)\t0.14398882253698528\n",
            "  (2, 602)\t0.13881904192806327\n",
            "  (2, 943)\t0.07047724865713705\n",
            "  (2, 1100)\t0.08323016101504148\n",
            "  (3, 859)\t0.16138147561176006\n",
            "  (3, 958)\t0.15914312766152927\n",
            "  (4, 145)\t0.5054663941447485\n",
            "  (4, 602)\t0.12774562428261169\n",
            "  (4, 943)\t0.12971073712052145\n",
            "  (4, 1097)\t0.4049402727410123\n",
            "  (5, 602)\t0.036856594307342276\n",
            "  (5, 859)\t0.14159393592724723\n",
            "  (5, 943)\t0.07484711969125526\n",
            "  (5, 958)\t0.13963003954418077\n",
            "  (6, 602)\t0.0358064680057202\n",
            "  (6, 654)\t0.1956448812416473\n",
            "  (6, 678)\t0.14167973558037764\n",
            "  :\t:\n",
            "  (230, 859)\t0.09087121941992145\n",
            "  (230, 943)\t0.048034889290088326\n",
            "  (230, 958)\t0.08961084299225212\n",
            "  (231, 650)\t0.07353616980890439\n",
            "  (233, 654)\t0.14381052582994544\n",
            "  (233, 678)\t0.10414296118535231\n",
            "  (233, 943)\t0.026724744548294415\n",
            "  (233, 1100)\t0.03156060763185236\n",
            "  (234, 650)\t0.046769270631657756\n",
            "  (235, 650)\t0.1583587403946973\n",
            "  (236, 650)\t0.052035433955426834\n",
            "  (237, 602)\t0.034932110736185705\n",
            "  (237, 654)\t0.12724495576998965\n",
            "  (237, 739)\t0.06710027258809485\n",
            "  (237, 943)\t0.07093894383015799\n",
            "  (238, 1100)\t0.038865124916419365\n",
            "  (240, 602)\t0.05284478744466627\n",
            "  (241, 145)\t0.12304863328366725\n",
            "  (241, 602)\t0.031097862603785397\n",
            "  (241, 607)\t0.07329487580064534\n",
            "  (241, 1097)\t0.2957309192034723\n",
            "  (241, 1100)\t0.03728998667312451\n",
            "  (242, 650)\t0.10162640512672394\n",
            "  (245, 650)\t0.05902689948681892\n",
            "  (246, 650)\t0.0447776094220422\n"
          ]
        },
        {
          "name": "stderr",
          "output_type": "stream",
          "text": [
            "C:\\ProgramData\\Anaconda3\\lib\\site-packages\\scipy\\sparse\\_index.py:116: SparseEfficiencyWarning: Changing the sparsity structure of a csr_matrix is expensive. lil_matrix is more efficient.\n",
            "  self._set_arrayXarray_sparse(i, j, x)\n"
          ]
        }
      ],
      "source": [
        "from scipy.sparse import csr_matrix\n",
        "sparseMatrix = csr_matrix((matrix.shape[0], matrix.shape[1]))\n",
        "\n",
        "for i in job_offer.indices:\n",
        "\tsparseMatrix[:,i] = matrix[:,i]\n",
        "\n",
        "matrix = sparseMatrix\n",
        "\n",
        "print(matrix)"
      ]
    },
    {
      "cell_type": "code",
      "execution_count": 11,
      "metadata": {},
      "outputs": [],
      "source": [
        "# from sklearn.neighbors import NearestNeighbors\n",
        "# nbrs = NearestNeighbors(n_neighbors=5).fit(matrix)\n",
        "# distances, indices = nbrs.kneighbors(job_offer)\n",
        "# print(distances)\n",
        "# print(indices)"
      ]
    },
    {
      "cell_type": "code",
      "execution_count": 12,
      "metadata": {
        "colab": {
          "base_uri": "https://localhost:8080/"
        },
        "id": "SB0gddICzvPt",
        "outputId": "3006bc78-ce98-4307-af88-dabb79b4b010"
      },
      "outputs": [
        {
          "name": "stdout",
          "output_type": "stream",
          "text": [
            "[[0.85120782 0.99102101 0.97429488 0.85347683 0.97494527 0.85636006\n",
            "  0.93467879 1.01529985 0.95322165 0.92638622 0.957079   0.93929877\n",
            "  0.92267379 0.97238461 0.68802494 0.71338514 1.         0.77164389\n",
            "  1.         0.98883082 0.86249308 1.         0.93520917 0.83931513\n",
            "  0.9918735  0.98116446 0.96191892 0.98439085 0.98494305 1.\n",
            "  0.96809682 0.92549223 0.96610917 0.98216001 0.9835168  0.94315495\n",
            "  0.99377202 1.         0.90031902 1.         0.90026509 1.\n",
            "  0.98130788 1.         0.86187102 0.97419486 0.99714177 0.99150051\n",
            "  0.96154163 0.9772529  0.98521038 0.98407884 0.93632013 1.03220394\n",
            "  0.98344988 1.         1.         0.98061301 0.99167558 0.97853503\n",
            "  0.96948166 0.97975966 0.98596564 1.         0.83175472 0.95985638\n",
            "  1.         0.98853749 0.99137122 0.97743056 0.95959308 0.98199553\n",
            "  0.98438724 0.99097301 0.95522591 0.9629387  0.86287741 0.93750457\n",
            "  0.94997505 0.99458693 0.99271176 0.96481501 0.97897618 0.82412858\n",
            "  0.96609313 0.89892915 0.87800764 0.99543799 1.         0.97301006\n",
            "  0.8170529  0.97134711 1.         0.994349   0.99411615 0.97767294\n",
            "  0.97976961 0.88023629 1.         0.9916695  1.         1.\n",
            "  1.         0.68477319 1.         1.         0.98486499 1.\n",
            "  0.99632775 0.97880388 1.         0.98878436 0.99193265 0.99342518\n",
            "  0.99309723 0.9848891  1.         0.98432473 0.99102101 0.94563501\n",
            "  1.         0.97275662 1.         0.96917613 1.         0.9855055\n",
            "  1.         1.         0.97130084 0.92089557 0.95859573 0.99372562\n",
            "  0.98849823 0.95888556 0.97962021 0.98491892 0.98226074 0.92918386\n",
            "  0.98517356 0.98875156 0.71338514 0.86810206 0.95922673 0.99317676\n",
            "  1.         0.97550068 0.92638622 0.98440835 0.98579188 1.\n",
            "  1.         1.         1.         0.99653828 1.         0.99080771\n",
            "  1.         0.98858328 0.96950544 0.83931513 0.93666445 0.9622044\n",
            "  0.90026509 0.98826602 0.95985638 0.94052871 0.97765334 0.98462421\n",
            "  1.         0.93809009 0.99412202 0.98199553 1.         1.\n",
            "  1.         0.99653828 1.         0.99080771 1.         0.93666445\n",
            "  0.98858328 0.9622044  0.96950544 1.         0.98826602 1.\n",
            "  0.90026509 0.95985638 0.9407407  0.97765334 0.98462421 1.\n",
            "  0.99412202 1.         0.98199553 0.98603852 0.96610917 0.93809009\n",
            "  1.         0.99613074 0.89952757 0.95310323 1.         1.\n",
            "  0.98956576 0.99150051 0.99147088 0.98446079 0.99121775 0.98372446\n",
            "  0.95412805 0.96897565 1.         0.93825408 0.98758594 1.\n",
            "  0.94075769 0.99437139 0.99342518 0.98598272 1.         0.98734976\n",
            "  1.         0.99104793 1.         0.99143668 0.97975966 1.\n",
            "  0.99341409 0.99441864 0.85179799 0.98935939 1.         0.94471987\n",
            "  0.99261534 0.98379242 0.99191853 0.95050438 0.99458693 1.\n",
            "  0.99440288 0.92553558 0.98671207 1.         1.         0.99103592\n",
            "  0.99288602]]\n"
          ]
        }
      ],
      "source": [
        "from sklearn.metrics.pairwise import euclidean_distances\n",
        "\n",
        "matches = euclidean_distances(job_offer,matrix)\n",
        "print(matches)"
      ]
    },
    {
      "cell_type": "code",
      "execution_count": 13,
      "metadata": {},
      "outputs": [
        {
          "name": "stdout",
          "output_type": "stream",
          "text": [
            "[103  14 140  15  17]\n"
          ]
        }
      ],
      "source": [
        "#number of candidates\n",
        "n = 5\n",
        "\n",
        "#best candidates indices\n",
        "indices = (matches[0]).argsort()[:n]\n",
        "\n",
        "print(indices)"
      ]
    },
    {
      "cell_type": "code",
      "execution_count": 14,
      "metadata": {},
      "outputs": [
        {
          "name": "stdout",
          "output_type": "stream",
          "text": [
            "['HTML', 'Microsoft Word', 'Android', 'linux embarqués (raspberry Pi)', 'Deep learning', 'Microsoft', 'C++', 'IA', 'Deep', 'VHDL', 'C', 'par', 'CSS', 'Deep Learning et IA', 'UML', 'Raspberry', 'Python', '(raspberry', 'Word', 'Pi)', 'Raspberry Pi', 'Vision par ordinateur', 'learning', 'Learning', 'tensorflow', 'Pi', 'STM32', 'Management', 'Linux', 'linux', 'et', 'embarqués', 'Vision', 'ordinateur'] -> 0.68\n",
            "['HTML', 'Python', 'SQL', 'C#', 'Angular6', 'Java', 'Arduino', 'Gestion', 'Raspberry Pi', 'Français', '.NET', 'C++', 'JavaScript', '.NET framework', 'Arabe', 'Pi', 'framework', 'VHDL', 'C', 'Linux', 'Stm32', 'Anglais', 'Gestion de projet', 'Raspberry', 'de', 'projet'] -> 0.69\n",
            "['Python', 'HTML', 'Tensorflow', 'Android', 'Java', 'Telecommunications', 'Arduino', 'Raspberry Pi', 'Android Development', 'Microsoft Office', 'Microsoft', 'Programmation', 'Office', 'VHDL-ams', 'C++', 'Pi', 'Development', 'Matlab', 'Management', 'C', 'Linux', 'Project', 'Project Management', 'Raspberry', 'LabView'] -> 0.71\n",
            "['Python', 'HTML', 'Tensorflow', 'Android', 'Java', 'Telecommunications', 'Arduino', 'Raspberry Pi', 'Android Development', 'Microsoft Office', 'Microsoft', 'Programmation', 'Office', 'VHDL-ams', 'C++', 'Pi', 'Development', 'Matlab', 'Management', 'C', 'Linux', 'Project', 'Project Management', 'Raspberry', 'LabView'] -> 0.71\n",
            "['SQL', 'C#', 'Signal', 'OrCAD', 'PSIM', 'Arduino', 'Simulink', '(FPGA)', 'Arrays', 'C++', 'Artificial', 'Matlab', 'Embedded', 'VHDL', 'C', 'Field-Programmable Gate Arrays (FPGA)', 'Machine', 'PSpice', '(AI)', 'Signal Processing', 'Raspberry', 'Xilinx ISE', 'Artificial Intelligence (AI)', 'ISE', 'Python', 'Machine Learning', 'Gate', 'Field-Programmable', 'Raspberry Pi', 'OrCAD Capture CIS', 'beaglebone', 'Learning', 'Systems', 'Pi', 'Processing', 'STM32', 'Eagle', 'Capture', 'Linux', 'Embedded Systems', 'Xilinx', 'CIS', 'Intelligence', 'Isis'] -> 0.77\n",
            "------\n",
            " 'Java', 'JEE', 'SQL', 'Python', 'machine learning', 'Raspberry Pi', 'c', 'Spring Boot', 'MongoDB', 'Leadership', 'Raspberry', 'Pi'\n"
          ]
        }
      ],
      "source": [
        "for i in indices:\n",
        "\tprint(Resumes[i],'->',\"{:.2f}\".format((matches[0][i])))\n",
        "\n",
        "print('------\\n',job_offer_description)"
      ]
    }
  ],
  "metadata": {
    "colab": {
      "collapsed_sections": [],
      "name": "Feature extraction from text.ipynb",
      "provenance": []
    },
    "kernelspec": {
      "display_name": "Python 3",
      "language": "python",
      "name": "python3"
    },
    "language_info": {
      "codemirror_mode": {
        "name": "ipython",
        "version": 3
      },
      "file_extension": ".py",
      "mimetype": "text/x-python",
      "name": "python",
      "nbconvert_exporter": "python",
      "pygments_lexer": "ipython3",
      "version": "3.9.7"
    }
  },
  "nbformat": 4,
  "nbformat_minor": 0
}
